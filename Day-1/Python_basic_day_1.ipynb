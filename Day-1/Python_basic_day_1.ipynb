{
 "cells": [
  {
   "cell_type": "code",
   "execution_count": 1,
   "id": "86f49842-b4c3-420a-8e29-97ec60fd6168",
   "metadata": {},
   "outputs": [],
   "source": [
    "x=10\n"
   ]
  },
  {
   "cell_type": "code",
   "execution_count": 2,
   "id": "699980ed-81a1-47d4-bbd2-3b316e853a16",
   "metadata": {},
   "outputs": [
    {
     "data": {
      "text/plain": [
       "int"
      ]
     },
     "execution_count": 2,
     "metadata": {},
     "output_type": "execute_result"
    }
   ],
   "source": [
    "type(x)"
   ]
  },
  {
   "cell_type": "code",
   "execution_count": 15,
   "id": "374c58a2-7208-4f3a-b947-cb2ce10cbf9f",
   "metadata": {},
   "outputs": [],
   "source": [
    "f=10.121214\n"
   ]
  },
  {
   "cell_type": "code",
   "execution_count": 16,
   "id": "1018d198-5baf-423e-950b-4ab897cd2573",
   "metadata": {},
   "outputs": [
    {
     "data": {
      "text/plain": [
       "float"
      ]
     },
     "execution_count": 16,
     "metadata": {},
     "output_type": "execute_result"
    }
   ],
   "source": [
    "type(f)\n"
   ]
  },
  {
   "cell_type": "code",
   "execution_count": 7,
   "id": "56bab9af-111f-459d-b32d-2eebcad8bbd1",
   "metadata": {},
   "outputs": [],
   "source": [
    "str=\"gopal\"\n"
   ]
  },
  {
   "cell_type": "code",
   "execution_count": 9,
   "id": "2bb9b7fb-609f-4923-82a6-0844cb884be8",
   "metadata": {},
   "outputs": [
    {
     "name": "stdout",
     "output_type": "stream",
     "text": [
      "gopal <class 'str'>\n"
     ]
    }
   ],
   "source": [
    "print(str,type(str))"
   ]
  },
  {
   "cell_type": "code",
   "execution_count": 12,
   "id": "e26b6b5a-4888-4d10-b049-6405c603c7a9",
   "metadata": {},
   "outputs": [
    {
     "name": "stdout",
     "output_type": "stream",
     "text": [
      "9\n"
     ]
    }
   ],
   "source": [
    "print(x-1)"
   ]
  },
  {
   "cell_type": "code",
   "execution_count": 11,
   "id": "f9aa6c9b-b522-4ad8-8252-517cf8b52100",
   "metadata": {},
   "outputs": [
    {
     "name": "stdout",
     "output_type": "stream",
     "text": [
      "11\n"
     ]
    }
   ],
   "source": [
    "print(x+1)"
   ]
  },
  {
   "cell_type": "code",
   "execution_count": 13,
   "id": "9f881b05-e2dc-40c3-a5b7-1b982c81148b",
   "metadata": {},
   "outputs": [
    {
     "name": "stdout",
     "output_type": "stream",
     "text": [
      "10.0\n"
     ]
    }
   ],
   "source": [
    "print(x/1)\n"
   ]
  },
  {
   "cell_type": "code",
   "execution_count": 14,
   "id": "73c99b0e-9ba7-4ec0-995b-4cb33feb9921",
   "metadata": {},
   "outputs": [
    {
     "name": "stdout",
     "output_type": "stream",
     "text": [
      "100\n"
     ]
    }
   ],
   "source": [
    "print(x**2)"
   ]
  },
  {
   "cell_type": "code",
   "execution_count": 17,
   "id": "2fd2ea6a-b790-4baf-b312-fc2b774a49b5",
   "metadata": {},
   "outputs": [
    {
     "name": "stdout",
     "output_type": "stream",
     "text": [
      "102.438972833796\n"
     ]
    }
   ],
   "source": [
    "print(f**2)"
   ]
  },
  {
   "cell_type": "code",
   "execution_count": 18,
   "id": "fb0f8e59-e442-4a2f-b985-69b436f8b15d",
   "metadata": {},
   "outputs": [
    {
     "name": "stdout",
     "output_type": "stream",
     "text": [
      "9.121214\n"
     ]
    }
   ],
   "source": [
    "print(f-1)"
   ]
  },
  {
   "cell_type": "code",
   "execution_count": 19,
   "id": "fcabea25-1bc1-4481-b591-e69bea2d9912",
   "metadata": {},
   "outputs": [
    {
     "name": "stdout",
     "output_type": "stream",
     "text": [
      "11.121214\n"
     ]
    }
   ],
   "source": [
    "print(f+1)"
   ]
  },
  {
   "cell_type": "code",
   "execution_count": 20,
   "id": "8cd8de3d-619b-4e76-8b63-8b4ceb3ab0dd",
   "metadata": {},
   "outputs": [
    {
     "name": "stdout",
     "output_type": "stream",
     "text": [
      "20.242428\n"
     ]
    }
   ],
   "source": [
    "print(f*2)"
   ]
  },
  {
   "cell_type": "markdown",
   "id": "cbaf78de-9a95-48bd-bf64-bc9ccd630150",
   "metadata": {},
   "source": [
    "# Boolean\n",
    "### && == AND , || == OR)"
   ]
  },
  {
   "cell_type": "code",
   "execution_count": 25,
   "id": "2ed97dd0-5351-4517-afde-8b12626b54a1",
   "metadata": {},
   "outputs": [],
   "source": [
    "t,f=True,False"
   ]
  },
  {
   "cell_type": "code",
   "execution_count": 27,
   "id": "345f58fa-c9d1-476f-8c9c-7b4e18db9733",
   "metadata": {},
   "outputs": [
    {
     "name": "stdout",
     "output_type": "stream",
     "text": [
      "True <class 'bool'>\n"
     ]
    }
   ],
   "source": [
    "print(t,type(f))"
   ]
  },
  {
   "cell_type": "code",
   "execution_count": 29,
   "id": "75f78ed6-b409-4594-a412-b0d6b753a468",
   "metadata": {},
   "outputs": [
    {
     "name": "stdout",
     "output_type": "stream",
     "text": [
      "False\n"
     ]
    }
   ],
   "source": [
    "print(not t)"
   ]
  },
  {
   "cell_type": "code",
   "execution_count": 30,
   "id": "90bffd41-5f5f-4db5-8fb8-1e3849164390",
   "metadata": {},
   "outputs": [
    {
     "name": "stdout",
     "output_type": "stream",
     "text": [
      "False\n"
     ]
    }
   ],
   "source": [
    "print(t and f)"
   ]
  },
  {
   "cell_type": "code",
   "execution_count": 31,
   "id": "90e3574e-7989-419a-8a62-b40ebbdc8230",
   "metadata": {},
   "outputs": [
    {
     "name": "stdout",
     "output_type": "stream",
     "text": [
      "True\n"
     ]
    }
   ],
   "source": [
    "print(t or f)"
   ]
  },
  {
   "cell_type": "code",
   "execution_count": 32,
   "id": "c22701e0-9dad-4243-b6c5-f97af05bb42c",
   "metadata": {},
   "outputs": [
    {
     "name": "stdout",
     "output_type": "stream",
     "text": [
      "True\n"
     ]
    }
   ],
   "source": [
    "print(t!=f)"
   ]
  },
  {
   "cell_type": "markdown",
   "id": "268eb59c-522e-47e9-8150-3e0e4d34fb60",
   "metadata": {},
   "source": [
    "# Strings"
   ]
  },
  {
   "cell_type": "code",
   "execution_count": 33,
   "id": "95af5cf3-226a-4b40-b4ef-805ed57699b4",
   "metadata": {},
   "outputs": [],
   "source": [
    "hello = \"Hello\"\n"
   ]
  },
  {
   "cell_type": "code",
   "execution_count": 34,
   "id": "3429ba9f-a229-49d1-a5db-f959cc10c7f0",
   "metadata": {},
   "outputs": [
    {
     "data": {
      "text/plain": [
       "str"
      ]
     },
     "execution_count": 34,
     "metadata": {},
     "output_type": "execute_result"
    }
   ],
   "source": [
    "type(hello)"
   ]
  },
  {
   "cell_type": "code",
   "execution_count": 35,
   "id": "062eaff7-9eaa-4f3f-a715-10b8da6c5ab9",
   "metadata": {},
   "outputs": [],
   "source": [
    "word = \"Word\""
   ]
  },
  {
   "cell_type": "code",
   "execution_count": 46,
   "id": "73603a13-8281-4d33-812f-7b972416bb1e",
   "metadata": {},
   "outputs": [
    {
     "name": "stdout",
     "output_type": "stream",
     "text": [
      "Hello Word\n"
     ]
    }
   ],
   "source": [
    "print(hello,word)"
   ]
  },
  {
   "cell_type": "code",
   "execution_count": 47,
   "id": "a2259893-b6b6-47fe-bfe8-c7229eb82a06",
   "metadata": {},
   "outputs": [
    {
     "name": "stdout",
     "output_type": "stream",
     "text": [
      "Hello,Word\n"
     ]
    }
   ],
   "source": [
    "print(hello +\",\"+word)"
   ]
  },
  {
   "cell_type": "code",
   "execution_count": 48,
   "id": "80ae2647-8ff4-4c64-b93c-f459bfd62d99",
   "metadata": {},
   "outputs": [
    {
     "name": "stdout",
     "output_type": "stream",
     "text": [
      "Hello , Word\n"
     ]
    }
   ],
   "source": [
    "print(hello,\",\",word)"
   ]
  },
  {
   "cell_type": "code",
   "execution_count": 50,
   "id": "949b1be5-db6a-4d9a-90f1-446074a552ad",
   "metadata": {},
   "outputs": [],
   "source": [
    "format='{}{} {}'.format(hello,\",\",word)"
   ]
  },
  {
   "cell_type": "code",
   "execution_count": 52,
   "id": "42f6e4dd-53cc-4543-ac68-611825e6f4e2",
   "metadata": {},
   "outputs": [
    {
     "name": "stdout",
     "output_type": "stream",
     "text": [
      "Hello, Word\n"
     ]
    }
   ],
   "source": [
    "print(format)"
   ]
  },
  {
   "cell_type": "code",
   "execution_count": 53,
   "id": "447de6ff-4fa9-4b3b-bae7-349ddc5b00a8",
   "metadata": {},
   "outputs": [],
   "source": [
    "s=\"hello\""
   ]
  },
  {
   "cell_type": "code",
   "execution_count": 54,
   "id": "15127d36-b985-4ff0-8255-db2ada9ac757",
   "metadata": {},
   "outputs": [
    {
     "name": "stdout",
     "output_type": "stream",
     "text": [
      "HELLO\n"
     ]
    }
   ],
   "source": [
    "print(s.upper())"
   ]
  },
  {
   "cell_type": "code",
   "execution_count": 55,
   "id": "46339c95-97ef-4f73-860d-4bc2df936f55",
   "metadata": {},
   "outputs": [
    {
     "name": "stdout",
     "output_type": "stream",
     "text": [
      "hello\n"
     ]
    }
   ],
   "source": [
    "print(s.lower())"
   ]
  },
  {
   "cell_type": "code",
   "execution_count": 57,
   "id": "f38ea0c1-e524-433b-9b3d-99e89de7cb7d",
   "metadata": {},
   "outputs": [
    {
     "name": "stdout",
     "output_type": "stream",
     "text": [
      "Hello\n"
     ]
    }
   ],
   "source": [
    "print(s.capitalize())\n",
    "# capitalize"
   ]
  },
  {
   "cell_type": "code",
   "execution_count": 61,
   "id": "402712ee-0400-4f35-849a-855bd39223f4",
   "metadata": {},
   "outputs": [
    {
     "name": "stdout",
     "output_type": "stream",
     "text": [
      "                                             hello\n"
     ]
    }
   ],
   "source": [
    "print(s.rjust(50))"
   ]
  },
  {
   "cell_type": "code",
   "execution_count": 68,
   "id": "c2d691fb-ed96-409f-8bb6-240581a8d826",
   "metadata": {},
   "outputs": [
    {
     "name": "stdout",
     "output_type": "stream",
     "text": [
      "                      hello                       \n"
     ]
    }
   ],
   "source": [
    "print(s.center(50))"
   ]
  },
  {
   "cell_type": "code",
   "execution_count": 74,
   "id": "a4462d35-b0bc-4b0f-8d1d-8b22be059771",
   "metadata": {},
   "outputs": [
    {
     "name": "stdout",
     "output_type": "stream",
     "text": [
      "heelloelloo\n"
     ]
    }
   ],
   "source": [
    "print(s.replace('l','ello'))"
   ]
  },
  {
   "cell_type": "code",
   "execution_count": 78,
   "id": "cc95b380-9c74-4823-8f86-f608921051d3",
   "metadata": {},
   "outputs": [],
   "source": [
    "x=\"        bhammar Gopal    \""
   ]
  },
  {
   "cell_type": "code",
   "execution_count": 80,
   "id": "1a5911db-9385-47a4-b758-73c6df927989",
   "metadata": {},
   "outputs": [
    {
     "name": "stdout",
     "output_type": "stream",
     "text": [
      "bhammar Gopal\n"
     ]
    }
   ],
   "source": [
    "print(x.strip())"
   ]
  },
  {
   "cell_type": "markdown",
   "id": "41abb006-d936-44ee-94c1-528c013b29ef",
   "metadata": {},
   "source": [
    "# Containers\n",
    "\n",
    "### List"
   ]
  },
  {
   "cell_type": "code",
   "execution_count": 102,
   "id": "487354f4-35be-44a3-a766-4f84a098c1e8",
   "metadata": {},
   "outputs": [],
   "source": [
    "x=[3,1,2]"
   ]
  },
  {
   "cell_type": "code",
   "execution_count": 103,
   "id": "2cecaebc-924e-4e83-9034-c90203206c92",
   "metadata": {},
   "outputs": [
    {
     "data": {
      "text/plain": [
       "list"
      ]
     },
     "execution_count": 103,
     "metadata": {},
     "output_type": "execute_result"
    }
   ],
   "source": [
    "type(x)"
   ]
  },
  {
   "cell_type": "code",
   "execution_count": 104,
   "id": "dc198bc7-c74d-41e4-a4c3-d6a1292db0ba",
   "metadata": {},
   "outputs": [
    {
     "name": "stdout",
     "output_type": "stream",
     "text": [
      "2\n"
     ]
    }
   ],
   "source": [
    "print(x[-1])"
   ]
  },
  {
   "cell_type": "code",
   "execution_count": 105,
   "id": "b429baf5-fc08-431e-8099-0ceddd2b9953",
   "metadata": {},
   "outputs": [
    {
     "name": "stdout",
     "output_type": "stream",
     "text": [
      "1\n"
     ]
    }
   ],
   "source": [
    "print(x[-2])"
   ]
  },
  {
   "cell_type": "code",
   "execution_count": 106,
   "id": "8ad6a652-6fed-4e5e-916f-ec2cd794ba15",
   "metadata": {},
   "outputs": [
    {
     "data": {
      "text/plain": [
       "3"
      ]
     },
     "execution_count": 106,
     "metadata": {},
     "output_type": "execute_result"
    }
   ],
   "source": [
    "len(x)"
   ]
  },
  {
   "cell_type": "code",
   "execution_count": 107,
   "id": "3896a8d2-9003-40ab-b148-7ff4551c0e3a",
   "metadata": {},
   "outputs": [
    {
     "name": "stdout",
     "output_type": "stream",
     "text": [
      "1\n"
     ]
    }
   ],
   "source": [
    "print(x[int(len(x)/2)])"
   ]
  },
  {
   "cell_type": "code",
   "execution_count": 108,
   "id": "6ee2388f-99bc-404a-9f1a-f9b5d4eba47f",
   "metadata": {},
   "outputs": [],
   "source": [
    "x.append('gopal bhammar')\n"
   ]
  },
  {
   "cell_type": "code",
   "execution_count": 94,
   "id": "f7c3e7e9-30c5-4648-98da-58d8546aca5c",
   "metadata": {},
   "outputs": [
    {
     "data": {
      "text/plain": [
       "[3, 1, 2, 'gopal bhammar']"
      ]
     },
     "execution_count": 94,
     "metadata": {},
     "output_type": "execute_result"
    }
   ],
   "source": [
    "x"
   ]
  },
  {
   "cell_type": "code",
   "execution_count": 101,
   "id": "12cafd2a-0f58-4e3a-a630-c380b74946a2",
   "metadata": {},
   "outputs": [
    {
     "data": {
      "text/plain": [
       "3"
      ]
     },
     "execution_count": 101,
     "metadata": {},
     "output_type": "execute_result"
    }
   ],
   "source": [
    "x.pop(0)"
   ]
  },
  {
   "cell_type": "markdown",
   "id": "47773317-fd97-4a3a-9e71-ffcbb5f176d5",
   "metadata": {},
   "source": [
    "### Slicing"
   ]
  },
  {
   "cell_type": "code",
   "execution_count": 114,
   "id": "3338aae2-3111-4b9d-8275-a7d8c1905d8a",
   "metadata": {},
   "outputs": [
    {
     "data": {
      "text/plain": [
       "[0, 1, 2, 3, 4]"
      ]
     },
     "execution_count": 114,
     "metadata": {},
     "output_type": "execute_result"
    }
   ],
   "source": [
    "nums = list(range(5))\n",
    "nums"
   ]
  },
  {
   "cell_type": "code",
   "execution_count": 127,
   "id": "6597c19f-fdac-4e63-b526-628200f705e7",
   "metadata": {},
   "outputs": [
    {
     "name": "stdout",
     "output_type": "stream",
     "text": [
      "[2, 3, 4]\n",
      "[3]\n",
      "[0, 1, 2, 3]\n",
      "[0, 1, 2, 3, 4]\n",
      "[0, 1, 2, 3]\n"
     ]
    }
   ],
   "source": [
    "print(nums[2:])\n",
    "print(nums[3:4])\n",
    "print(nums[:4])\n",
    "print(nums[:])\n",
    "print(nums[:-1])"
   ]
  },
  {
   "cell_type": "code",
   "execution_count": 130,
   "id": "c758d238-81cc-4bd6-a112-3c82bb9d1224",
   "metadata": {},
   "outputs": [
    {
     "name": "stdout",
     "output_type": "stream",
     "text": [
      "[4, 3, 2, 1, 0]\n"
     ]
    }
   ],
   "source": [
    "print(nums[::-1])"
   ]
  },
  {
   "cell_type": "code",
   "execution_count": 132,
   "id": "18265e88-0024-45c0-9213-985f5c70315f",
   "metadata": {},
   "outputs": [
    {
     "data": {
      "text/plain": [
       "['cat', 'dog', 'monkey', 'donkey', 'horse']"
      ]
     },
     "execution_count": 132,
     "metadata": {},
     "output_type": "execute_result"
    }
   ],
   "source": [
    "animals=['cat','dog','monkey','donkey','horse']\n",
    "animals"
   ]
  },
  {
   "cell_type": "code",
   "execution_count": 133,
   "id": "b32b2e8a-a52c-4dac-abec-058ab48f1a34",
   "metadata": {},
   "outputs": [
    {
     "name": "stdout",
     "output_type": "stream",
     "text": [
      "cat\n",
      "dog\n",
      "monkey\n",
      "donkey\n",
      "horse\n"
     ]
    }
   ],
   "source": [
    "for animal in animals:\n",
    "    print(animal)"
   ]
  },
  {
   "cell_type": "code",
   "execution_count": 135,
   "id": "75f33456-f4f7-43e4-9ede-936497beddd7",
   "metadata": {},
   "outputs": [
    {
     "name": "stdout",
     "output_type": "stream",
     "text": [
      "1 : cat\n",
      "2 : dog\n",
      "3 : monkey\n",
      "4 : donkey\n",
      "5 : horse\n"
     ]
    }
   ],
   "source": [
    "for idx,animal in enumerate(animals):\n",
    "    print('{} : {}'.format(idx+1,animal))"
   ]
  },
  {
   "cell_type": "markdown",
   "id": "4782cc46-51a2-43d6-827f-b6bff81d8898",
   "metadata": {},
   "source": [
    "### List Comprehension"
   ]
  },
  {
   "cell_type": "code",
   "execution_count": 138,
   "id": "301cee2b-3f19-4234-a2ec-18bab6cc2586",
   "metadata": {},
   "outputs": [
    {
     "data": {
      "text/plain": [
       "[0, 1, 2, 3, 4]"
      ]
     },
     "execution_count": 138,
     "metadata": {},
     "output_type": "execute_result"
    }
   ],
   "source": [
    "list1 = list(range(5))\n",
    "list1"
   ]
  },
  {
   "cell_type": "code",
   "execution_count": 145,
   "id": "d27c9b02-3beb-4801-b17c-50fba4e56fc2",
   "metadata": {},
   "outputs": [],
   "source": [
    "list2=[]"
   ]
  },
  {
   "cell_type": "code",
   "execution_count": 146,
   "id": "f90cf654-8a29-4f3d-b7c4-fba4955ae6ee",
   "metadata": {},
   "outputs": [],
   "source": [
    "for x in list1:\n",
    "    list2.append(x**2)"
   ]
  },
  {
   "cell_type": "code",
   "execution_count": 150,
   "id": "90c3e7d6-03f9-4418-a040-c2c22e400baf",
   "metadata": {},
   "outputs": [],
   "source": [
    "list2= [x**2 for x in list1]"
   ]
  },
  {
   "cell_type": "code",
   "execution_count": 151,
   "id": "4f2c6051-371b-474d-b30c-ea6ff9005792",
   "metadata": {},
   "outputs": [
    {
     "data": {
      "text/plain": [
       "[0, 1, 4, 9, 16]"
      ]
     },
     "execution_count": 151,
     "metadata": {},
     "output_type": "execute_result"
    }
   ],
   "source": [
    "list2"
   ]
  },
  {
   "cell_type": "code",
   "execution_count": 152,
   "id": "c14d48dd-ccd3-4298-be13-531b41d8286f",
   "metadata": {},
   "outputs": [],
   "source": [
    "list3=list(range(10))"
   ]
  },
  {
   "cell_type": "code",
   "execution_count": 153,
   "id": "01a44f7f-6bd2-48a6-8b93-1c32fbe03608",
   "metadata": {},
   "outputs": [
    {
     "data": {
      "text/plain": [
       "[0, 1, 2, 3, 4, 5, 6, 7, 8, 9]"
      ]
     },
     "execution_count": 153,
     "metadata": {},
     "output_type": "execute_result"
    }
   ],
   "source": [
    "list3"
   ]
  },
  {
   "cell_type": "code",
   "execution_count": 154,
   "id": "1815d7ef-80c5-415f-8b2a-74455cb9a036",
   "metadata": {},
   "outputs": [],
   "source": [
    "list_even=[]\n",
    "for num in list3:\n",
    "    if num%2==0:\n",
    "        list_even.append(num)"
   ]
  },
  {
   "cell_type": "code",
   "execution_count": 155,
   "id": "4ad0444a-fce8-4163-813b-d1366f6b3849",
   "metadata": {},
   "outputs": [
    {
     "data": {
      "text/plain": [
       "[0, 2, 4, 6, 8]"
      ]
     },
     "execution_count": 155,
     "metadata": {},
     "output_type": "execute_result"
    }
   ],
   "source": [
    "list_even"
   ]
  },
  {
   "cell_type": "code",
   "execution_count": 158,
   "id": "1f2d7d91-1e3e-48f1-86b1-d9490fcbb990",
   "metadata": {},
   "outputs": [],
   "source": [
    "list_even1=[num for num in list3 if num%2==0]"
   ]
  },
  {
   "cell_type": "code",
   "execution_count": 159,
   "id": "550782dc-d8e4-4465-ad96-12406ece16a8",
   "metadata": {},
   "outputs": [
    {
     "data": {
      "text/plain": [
       "[0, 2, 4, 6, 8]"
      ]
     },
     "execution_count": 159,
     "metadata": {},
     "output_type": "execute_result"
    }
   ],
   "source": [
    "list_even1"
   ]
  },
  {
   "cell_type": "code",
   "execution_count": 160,
   "id": "cae9ee3e-5513-422f-9442-9d3ed8384709",
   "metadata": {},
   "outputs": [],
   "source": [
    "list_squre=[num**2 for num in list3 if num%2==0]"
   ]
  },
  {
   "cell_type": "markdown",
   "id": "255ce2e1-e2f2-4306-b5a3-f492bc58b4e4",
   "metadata": {},
   "source": [
    "### Dictionaries"
   ]
  },
  {
   "cell_type": "code",
   "execution_count": 161,
   "id": "2e3aebe6-35d0-4707-8e3c-104d8ae62c73",
   "metadata": {},
   "outputs": [],
   "source": [
    "d = {'cat':'cute','dog':'furry'}"
   ]
  },
  {
   "cell_type": "code",
   "execution_count": 162,
   "id": "69a6ae55-e1ac-4270-9347-5846647f2d04",
   "metadata": {},
   "outputs": [
    {
     "data": {
      "text/plain": [
       "{'cat': 'cute', 'dog': 'furry'}"
      ]
     },
     "execution_count": 162,
     "metadata": {},
     "output_type": "execute_result"
    }
   ],
   "source": [
    "d"
   ]
  },
  {
   "cell_type": "code",
   "execution_count": 164,
   "id": "7a127070-f5e8-4289-9260-69824f33dca7",
   "metadata": {},
   "outputs": [
    {
     "name": "stdout",
     "output_type": "stream",
     "text": [
      "cute\n"
     ]
    }
   ],
   "source": [
    "print(d['cat'])"
   ]
  },
  {
   "cell_type": "code",
   "execution_count": 170,
   "id": "e4bd1ffa-ee71-4eba-a391-1d1b223043e9",
   "metadata": {},
   "outputs": [],
   "source": [
    "d['fish'] = 'wet'"
   ]
  },
  {
   "cell_type": "code",
   "execution_count": 171,
   "id": "16612c73-aab8-43b3-b205-42ca0026acbb",
   "metadata": {},
   "outputs": [
    {
     "data": {
      "text/plain": [
       "{'cat': 'cute', 'dog': 'furry', 'fish': 'wet'}"
      ]
     },
     "execution_count": 171,
     "metadata": {},
     "output_type": "execute_result"
    }
   ],
   "source": [
    "d"
   ]
  },
  {
   "cell_type": "code",
   "execution_count": 184,
   "id": "117c8951-9a4e-479b-93ca-5ece80f21e6d",
   "metadata": {},
   "outputs": [
    {
     "name": "stdout",
     "output_type": "stream",
     "text": [
      "cat  :  cute\n",
      "dog  :  furry\n",
      "fish  :  wet\n"
     ]
    }
   ],
   "source": [
    "for key,value in d.items():\n",
    "    print(key,\" : \",value)"
   ]
  },
  {
   "cell_type": "code",
   "execution_count": 188,
   "id": "eb7a7a4a-6261-4e97-9201-6050012f95e9",
   "metadata": {},
   "outputs": [
    {
     "name": "stdout",
     "output_type": "stream",
     "text": [
      "N/A\n",
      "cute\n"
     ]
    }
   ],
   "source": [
    "print(d.get('monkey','N/A'))\n",
    "print(d.get('cat','N/A'))"
   ]
  },
  {
   "cell_type": "code",
   "execution_count": 195,
   "id": "487ef6c5-8c4c-42bb-a3c6-84b0911b7b3a",
   "metadata": {},
   "outputs": [
    {
     "name": "stdout",
     "output_type": "stream",
     "text": [
      "A PERSON has 2 legs\n",
      "A CAT has 4 legs\n",
      "A SPIDER has 8 legs\n"
     ]
    }
   ],
   "source": [
    "dict = {'person':2,'cat':4,'spider':8}\n",
    "for key,values in dict.items():\n",
    "    print(\"A {} has {} legs\".format(key.upper(),values))"
   ]
  },
  {
   "cell_type": "code",
   "execution_count": 196,
   "id": "cef8b2e4-ab10-42a3-a80a-2df3fc1c2443",
   "metadata": {},
   "outputs": [
    {
     "data": {
      "text/plain": [
       "'GOPAL'"
      ]
     },
     "execution_count": 196,
     "metadata": {},
     "output_type": "execute_result"
    }
   ],
   "source": [
    "\"gopal\".upper()"
   ]
  },
  {
   "cell_type": "code",
   "execution_count": 205,
   "id": "3692eaad-5787-4eb5-aa04-255920ba41b5",
   "metadata": {},
   "outputs": [],
   "source": [
    "li=list(range(10))\n",
    "d={}\n",
    "even_squre={x:x**2 for x in li if x%2==0} "
   ]
  },
  {
   "cell_type": "code",
   "execution_count": 200,
   "id": "7b6b3f54-77ed-44c9-b478-74d8626c10db",
   "metadata": {},
   "outputs": [],
   "source": [
    "for l in li:\n",
    "    if l%2==0:\n",
    "        d[l]=l**2"
   ]
  },
  {
   "cell_type": "code",
   "execution_count": 201,
   "id": "9553136b-7d4e-42cb-8189-7c74e61ee32e",
   "metadata": {},
   "outputs": [
    {
     "data": {
      "text/plain": [
       "{0: 0, 2: 4, 4: 16, 6: 36, 8: 64}"
      ]
     },
     "execution_count": 201,
     "metadata": {},
     "output_type": "execute_result"
    }
   ],
   "source": [
    "d"
   ]
  },
  {
   "cell_type": "code",
   "execution_count": 202,
   "id": "ba2cb86b-5fe8-4a6e-9da0-c720739f28d5",
   "metadata": {},
   "outputs": [
    {
     "name": "stdout",
     "output_type": "stream",
     "text": [
      "<class 'dict'>\n"
     ]
    }
   ],
   "source": [
    "print(type(d))"
   ]
  },
  {
   "cell_type": "code",
   "execution_count": 206,
   "id": "e122cf68-8d82-4482-89a3-5696472abb1f",
   "metadata": {},
   "outputs": [
    {
     "data": {
      "text/plain": [
       "{0: 0, 2: 4, 4: 16, 6: 36, 8: 64}"
      ]
     },
     "execution_count": 206,
     "metadata": {},
     "output_type": "execute_result"
    }
   ],
   "source": [
    "even_squre"
   ]
  },
  {
   "cell_type": "markdown",
   "id": "e8acb073-c4c5-49a9-91ea-4cf13db91049",
   "metadata": {},
   "source": [
    "### Sets\n"
   ]
  },
  {
   "cell_type": "code",
   "execution_count": 210,
   "id": "7592ed46-f088-48e6-b5c9-44f2406f262f",
   "metadata": {},
   "outputs": [
    {
     "name": "stdout",
     "output_type": "stream",
     "text": [
      "<class 'set'>\n"
     ]
    }
   ],
   "source": [
    "animals={'cat','dog'}\n",
    "print(type(animals))"
   ]
  },
  {
   "cell_type": "code",
   "execution_count": 211,
   "id": "f93c9cc7-bef8-4ce4-814e-7c9d5402ba88",
   "metadata": {},
   "outputs": [
    {
     "name": "stdout",
     "output_type": "stream",
     "text": [
      "True\n"
     ]
    }
   ],
   "source": [
    "print('cat' in animals)"
   ]
  },
  {
   "cell_type": "code",
   "execution_count": 212,
   "id": "e6f640e3-37f4-4c02-90fb-d5fe66bfe109",
   "metadata": {},
   "outputs": [
    {
     "name": "stdout",
     "output_type": "stream",
     "text": [
      "False\n"
     ]
    }
   ],
   "source": [
    "print('cats' in animals)"
   ]
  },
  {
   "cell_type": "code",
   "execution_count": 225,
   "id": "741d4e62-a671-4a70-961b-049af3c513c6",
   "metadata": {},
   "outputs": [],
   "source": [
    "animals.add('shubham')"
   ]
  },
  {
   "cell_type": "code",
   "execution_count": 235,
   "id": "a0a152b0-0d60-4ceb-b611-ace73f653c4a",
   "metadata": {},
   "outputs": [
    {
     "data": {
      "text/plain": [
       "{'cat', 'dog', 'shubham', 'shubhams'}"
      ]
     },
     "execution_count": 235,
     "metadata": {},
     "output_type": "execute_result"
    }
   ],
   "source": [
    "animals"
   ]
  },
  {
   "cell_type": "code",
   "execution_count": 226,
   "id": "b12013be-d5c1-4d65-be7b-9b92cc749f0a",
   "metadata": {},
   "outputs": [],
   "source": [
    "animals.add('shubham')"
   ]
  },
  {
   "cell_type": "code",
   "execution_count": 227,
   "id": "c6f0f59e-b350-4ab1-9139-4ae1623b347e",
   "metadata": {},
   "outputs": [],
   "source": [
    "set1=set(range(5))"
   ]
  },
  {
   "cell_type": "code",
   "execution_count": 228,
   "id": "c2bc716b-f8c7-4ff8-9551-99166c1f157b",
   "metadata": {},
   "outputs": [
    {
     "data": {
      "text/plain": [
       "{0, 1, 2, 3, 4}"
      ]
     },
     "execution_count": 228,
     "metadata": {},
     "output_type": "execute_result"
    }
   ],
   "source": [
    "set1"
   ]
  },
  {
   "cell_type": "code",
   "execution_count": 251,
   "id": "13579757-52de-4104-9f39-0b3e6aff4ac6",
   "metadata": {},
   "outputs": [
    {
     "name": "stdout",
     "output_type": "stream",
     "text": [
      "0:  shubham\n",
      "1:  shubhams\n",
      "2:  cat\n",
      "3:  dog\n"
     ]
    }
   ],
   "source": [
    "for idx,animal in enumerate(animals):\n",
    "    print(\"{}:  {}\".format(idx,animal))\n",
    "    "
   ]
  },
  {
   "cell_type": "markdown",
   "id": "3b1d2ae3-eaf0-485b-97a7-34e8633631d0",
   "metadata": {},
   "source": [
    "### Tuples"
   ]
  },
  {
   "cell_type": "code",
   "execution_count": 252,
   "id": "2fd66370-b110-4e51-b41f-3459df64ef55",
   "metadata": {},
   "outputs": [],
   "source": [
    "a = (5,6)"
   ]
  },
  {
   "cell_type": "code",
   "execution_count": 253,
   "id": "ff6a4d76-6378-47ef-abeb-5579b7ead8f5",
   "metadata": {},
   "outputs": [
    {
     "data": {
      "text/plain": [
       "(5, 6)"
      ]
     },
     "execution_count": 253,
     "metadata": {},
     "output_type": "execute_result"
    }
   ],
   "source": [
    "a"
   ]
  },
  {
   "cell_type": "code",
   "execution_count": 254,
   "id": "6ad821ca-5231-4784-a2d5-8dce4a8a33c9",
   "metadata": {},
   "outputs": [
    {
     "data": {
      "text/plain": [
       "5"
      ]
     },
     "execution_count": 254,
     "metadata": {},
     "output_type": "execute_result"
    }
   ],
   "source": [
    "a[0]"
   ]
  },
  {
   "cell_type": "code",
   "execution_count": 277,
   "id": "d6d1fcf1-31e2-4d77-8075-04d51df6ff98",
   "metadata": {},
   "outputs": [],
   "source": [
    "t = {(x, x+1): x for x in range(10)}"
   ]
  },
  {
   "cell_type": "code",
   "execution_count": 281,
   "id": "d487a3d8-4744-4eea-a5fc-fa60ff13740d",
   "metadata": {},
   "outputs": [
    {
     "name": "stdout",
     "output_type": "stream",
     "text": [
      "0\n"
     ]
    }
   ],
   "source": [
    "print(t[(0,1)])"
   ]
  },
  {
   "cell_type": "markdown",
   "id": "9f5e778b-7c8d-4b3a-b55e-c9b70f27ee72",
   "metadata": {},
   "source": [
    "# Functions"
   ]
  },
  {
   "cell_type": "code",
   "execution_count": 283,
   "id": "35f16a95-4f8a-4161-97cd-9e0a53b7eb74",
   "metadata": {},
   "outputs": [],
   "source": [
    "def sign(x):\n",
    "    if(x>0):\n",
    "        print(\"positive\")\n",
    "        return \n",
    "    elif(x<0):\n",
    "        print(\"Negative\")\n",
    "    else:\n",
    "        print(\"Zero\")\n",
    "        "
   ]
  },
  {
   "cell_type": "code",
   "execution_count": 285,
   "id": "b7a0819b-5eea-4775-8183-4e4bf991ff5e",
   "metadata": {},
   "outputs": [
    {
     "name": "stdout",
     "output_type": "stream",
     "text": [
      "positive\n",
      "Zero\n",
      "Negative\n"
     ]
    }
   ],
   "source": [
    "sign(123)\n",
    "sign(0)\n",
    "sign(-1234)"
   ]
  },
  {
   "cell_type": "code",
   "execution_count": 287,
   "id": "62aec995-7e88-4051-abbc-939d506fe54c",
   "metadata": {},
   "outputs": [],
   "source": [
    "def hello(name,loud=False):\n",
    "    if loud:\n",
    "        print(\"name {}\".format(name.upper()))\n",
    "    else:\n",
    "        print(\"name {}\".format(name))\n",
    "        "
   ]
  },
  {
   "cell_type": "code",
   "execution_count": 288,
   "id": "ff2d218a-6d46-4762-8d63-e277047375cc",
   "metadata": {},
   "outputs": [
    {
     "name": "stdout",
     "output_type": "stream",
     "text": [
      "name gopal\n",
      "name MEET\n"
     ]
    }
   ],
   "source": [
    "hello(\"gopal\")\n",
    "hello(\"meet\",True)"
   ]
  },
  {
   "cell_type": "code",
   "execution_count": 306,
   "id": "8dd844fe-0b9e-4c4a-9142-a01a5a9410c2",
   "metadata": {},
   "outputs": [],
   "source": [
    "def check(name):\n",
    "    if name.isupper():\n",
    "        return \"Upper\"\n",
    "    elif name.islower():\n",
    "        return \"Lower\"\n",
    "    elif name==name.capitalize():\n",
    "        return \"capitalize\"\n",
    "    else:\n",
    "        return name + \" other \"\n",
    "        "
   ]
  },
  {
   "cell_type": "code",
   "execution_count": 307,
   "id": "dd457567-2e22-461b-bc49-6a683a52ebc5",
   "metadata": {},
   "outputs": [
    {
     "name": "stdout",
     "output_type": "stream",
     "text": [
      "Lower\n",
      "Upper\n",
      "capitalize\n",
      "RituU other \n"
     ]
    }
   ],
   "source": [
    "print(check(\"gopal\"))\n",
    "print(check(\"GOP\"))\n",
    "print(check(\"Shubham\"))\n",
    "print(check(\"RituU\"))"
   ]
  },
  {
   "cell_type": "code",
   "execution_count": 309,
   "id": "1e865102-9bdf-42de-9e73-dac39c118e28",
   "metadata": {},
   "outputs": [],
   "source": [
    "def Scope_test():\n",
    "    def do_local():\n",
    "        spam=\"local span\"\n",
    "\n",
    "    def do_nonlocal():\n",
    "        nonlocal spam\n",
    "        spam=\"nonlocal spam\"\n",
    "\n",
    "    def do_global():\n",
    "        global spam\n",
    "        spam = \"global spam\"\n",
    "\n",
    "    spam = \"test spam\"\n",
    "    do_local()\n",
    "    print(\"After local assidnment\", spam)\n",
    "    do_nonlocal()\n",
    "    print(\"after nonlocal assignment \",spam)\n",
    "    do_global()\n",
    "    print(\"after global assignment \",spam)\n",
    "    \n",
    "    "
   ]
  },
  {
   "cell_type": "code",
   "execution_count": 311,
   "id": "86f7f825-205e-45c5-9bb2-2c31d599d4b0",
   "metadata": {},
   "outputs": [
    {
     "name": "stdout",
     "output_type": "stream",
     "text": [
      "After local assidnment test spam\n",
      "after nonlocal assignment  nonlocal spam\n",
      "after global assignment  nonlocal spam\n",
      "after global assignment  global spam\n"
     ]
    }
   ],
   "source": [
    "Scope_test()\n",
    "print(\"after global assignment \",spam)"
   ]
  },
  {
   "cell_type": "markdown",
   "id": "fd9d006e-ee82-4a95-8e55-0e63ea01b30e",
   "metadata": {},
   "source": [
    "# Classes"
   ]
  },
  {
   "cell_type": "code",
   "execution_count": 319,
   "id": "cb8b841c-c0f8-478c-8576-8f7126a8d2af",
   "metadata": {},
   "outputs": [],
   "source": [
    "class Greeter:\n",
    "    def __init__(self,name): #constructor\n",
    "        self.name=name\n",
    "\n",
    "    def greet(self,loud = False):\n",
    "        if loud:\n",
    "            print(\"name {}\".format(self.name.upper()))\n",
    "        else:\n",
    "            print(\"name {}\".format(self.name))"
   ]
  },
  {
   "cell_type": "code",
   "execution_count": 321,
   "id": "4a9677bc-2a00-40e0-bdb9-8e017e83fa2e",
   "metadata": {},
   "outputs": [
    {
     "name": "stdout",
     "output_type": "stream",
     "text": [
      "name GOPAL\n"
     ]
    }
   ],
   "source": [
    "G = Greeter(\"Gopal\")\n",
    "G.greet(True)"
   ]
  },
  {
   "cell_type": "code",
   "execution_count": 325,
   "id": "011f04b1-ec64-42a2-8358-89647762b177",
   "metadata": {},
   "outputs": [],
   "source": [
    "class Detail:\n",
    "    def __init__(self,name,age): #constructor\n",
    "        self.name=name\n",
    "        self.age=age\n",
    "\n",
    "    def print_detail(self):\n",
    "        print(\"Hello, your name is {} and age {} \".format(self.name,self.age))"
   ]
  },
  {
   "cell_type": "code",
   "execution_count": 326,
   "id": "e11579d9-8f98-48bf-bf53-5cb01a70ff49",
   "metadata": {},
   "outputs": [
    {
     "name": "stdout",
     "output_type": "stream",
     "text": [
      "Hello, your name is Gopal Bhammar and age 24 \n"
     ]
    }
   ],
   "source": [
    "D=Detail(\"Gopal Bhammar\",24)\n",
    "D.print_detail()"
   ]
  },
  {
   "cell_type": "code",
   "execution_count": null,
   "id": "40457886-29d4-4f0d-8e85-c83362a1236c",
   "metadata": {},
   "outputs": [],
   "source": [
    "import pandas "
   ]
  }
 ],
 "metadata": {
  "kernelspec": {
   "display_name": "Python [conda env:base] *",
   "language": "python",
   "name": "conda-base-py"
  },
  "language_info": {
   "codemirror_mode": {
    "name": "ipython",
    "version": 3
   },
   "file_extension": ".py",
   "mimetype": "text/x-python",
   "name": "python",
   "nbconvert_exporter": "python",
   "pygments_lexer": "ipython3",
   "version": "3.13.5"
  }
 },
 "nbformat": 4,
 "nbformat_minor": 5
}

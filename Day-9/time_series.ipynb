{
 "cells": [
  {
   "cell_type": "code",
   "execution_count": 60,
   "id": "66549098-09dc-44a1-b9e4-66494a86d9d7",
   "metadata": {},
   "outputs": [],
   "source": [
    "import numpy as np\n",
    "import matplotlib.pyplot as plt\n",
    "import seaborn as sns\n",
    "import pandas as pd\n",
    "from sklearn.preprocessing import StandardScaler"
   ]
  },
  {
   "cell_type": "code",
   "execution_count": 61,
   "id": "70eac72e-c522-4e93-a48a-bae461590311",
   "metadata": {},
   "outputs": [],
   "source": [
    "df =pd.read_json(\"D:/Advanced_training/Advanced-training-Python-AIML/Day-8/file.json\")"
   ]
  },
  {
   "cell_type": "code",
   "execution_count": 62,
   "id": "451b7533-8789-4209-b13c-bab0214efd4d",
   "metadata": {},
   "outputs": [
    {
     "data": {
      "text/plain": [
       "(5, 13)"
      ]
     },
     "execution_count": 62,
     "metadata": {},
     "output_type": "execute_result"
    }
   ],
   "source": [
    "df.shape"
   ]
  },
  {
   "cell_type": "code",
   "execution_count": 63,
   "id": "3228a256-2823-4485-a322-37c384ea5541",
   "metadata": {},
   "outputs": [
    {
     "data": {
      "text/plain": [
       "productName\n",
       "4K Ultra HD Smart TV    799.99\n",
       "Bluetooth Speaker        59.99\n",
       "Smartphone Case          29.99\n",
       "Winter Jacket           129.99\n",
       "Wireless Headphones     199.99\n",
       "Name: price, dtype: float64"
      ]
     },
     "execution_count": 63,
     "metadata": {},
     "output_type": "execute_result"
    }
   ],
   "source": [
    "df.groupby('productName')['price'].sum()"
   ]
  },
  {
   "cell_type": "code",
   "execution_count": 64,
   "id": "bbc80133-43e1-4fc9-8308-52675067ffbc",
   "metadata": {},
   "outputs": [
    {
     "data": {
      "text/plain": [
       "category\n",
       "Accessories      29.99\n",
       "Clothing        129.99\n",
       "Electronics    1059.97\n",
       "Name: price, dtype: float64"
      ]
     },
     "execution_count": 64,
     "metadata": {},
     "output_type": "execute_result"
    }
   ],
   "source": [
    "df.groupby('category')['price'].sum()"
   ]
  },
  {
   "cell_type": "code",
   "execution_count": 65,
   "id": "021a51e2-845d-48cb-8a9e-08ea11708eeb",
   "metadata": {},
   "outputs": [
    {
     "data": {
      "text/html": [
       "<div>\n",
       "<style scoped>\n",
       "    .dataframe tbody tr th:only-of-type {\n",
       "        vertical-align: middle;\n",
       "    }\n",
       "\n",
       "    .dataframe tbody tr th {\n",
       "        vertical-align: top;\n",
       "    }\n",
       "\n",
       "    .dataframe thead th {\n",
       "        text-align: right;\n",
       "    }\n",
       "</style>\n",
       "<table border=\"1\" class=\"dataframe\">\n",
       "  <thead>\n",
       "    <tr style=\"text-align: right;\">\n",
       "      <th></th>\n",
       "      <th>productId</th>\n",
       "      <th>productName</th>\n",
       "      <th>description</th>\n",
       "      <th>brand</th>\n",
       "      <th>category</th>\n",
       "      <th>price</th>\n",
       "      <th>currency</th>\n",
       "      <th>stock</th>\n",
       "      <th>images</th>\n",
       "      <th>variants</th>\n",
       "      <th>dimensions</th>\n",
       "      <th>ratings</th>\n",
       "      <th>reviews</th>\n",
       "    </tr>\n",
       "  </thead>\n",
       "  <tbody>\n",
       "    <tr>\n",
       "      <th>0</th>\n",
       "      <td>1001</td>\n",
       "      <td>Wireless Headphones</td>\n",
       "      <td>Noise-cancelling wireless headphones with Blue...</td>\n",
       "      <td>SoundPro</td>\n",
       "      <td>Electronics</td>\n",
       "      <td>199.99</td>\n",
       "      <td>USD</td>\n",
       "      <td>{'available': True, 'quantity': 50}</td>\n",
       "      <td>[https://example.com/products/1001/main.jpg, h...</td>\n",
       "      <td>[{'variantId': '1001_01', 'color': 'Black', 'p...</td>\n",
       "      <td>{'weight': '0.5kg', 'width': '18cm', 'height':...</td>\n",
       "      <td>{'averageRating': 4.7, 'numberOfReviews': 120}</td>\n",
       "      <td>[{'reviewId': 501, 'userId': 101, 'username': ...</td>\n",
       "    </tr>\n",
       "    <tr>\n",
       "      <th>1</th>\n",
       "      <td>1002</td>\n",
       "      <td>Smartphone Case</td>\n",
       "      <td>Durable and shockproof case for smartphones, a...</td>\n",
       "      <td>CaseMate</td>\n",
       "      <td>Accessories</td>\n",
       "      <td>29.99</td>\n",
       "      <td>USD</td>\n",
       "      <td>{'available': True, 'quantity': 200}</td>\n",
       "      <td>[https://example.com/products/1002/main.jpg, h...</td>\n",
       "      <td>[{'variantId': '1002_01', 'color': 'Black', 'p...</td>\n",
       "      <td>{'weight': '0.2kg', 'width': '8cm', 'height': ...</td>\n",
       "      <td>{'averageRating': 4.4, 'numberOfReviews': 80}</td>\n",
       "      <td>[{'reviewId': 601, 'userId': 103, 'username': ...</td>\n",
       "    </tr>\n",
       "    <tr>\n",
       "      <th>2</th>\n",
       "      <td>1003</td>\n",
       "      <td>4K Ultra HD Smart TV</td>\n",
       "      <td>55-inch 4K Ultra HD Smart TV with built-in Wi-...</td>\n",
       "      <td>Visionary</td>\n",
       "      <td>Electronics</td>\n",
       "      <td>799.99</td>\n",
       "      <td>USD</td>\n",
       "      <td>{'available': True, 'quantity': 30}</td>\n",
       "      <td>[https://example.com/products/1003/main.jpg, h...</td>\n",
       "      <td>[{'variantId': '1003_01', 'screenSize': '55 in...</td>\n",
       "      <td>{'weight': '15kg', 'width': '123cm', 'height':...</td>\n",
       "      <td>{'averageRating': 4.8, 'numberOfReviews': 250}</td>\n",
       "      <td>[{'reviewId': 701, 'userId': 105, 'username': ...</td>\n",
       "    </tr>\n",
       "    <tr>\n",
       "      <th>3</th>\n",
       "      <td>1004</td>\n",
       "      <td>Bluetooth Speaker</td>\n",
       "      <td>Portable Bluetooth speaker with 12-hour batter...</td>\n",
       "      <td>AudioX</td>\n",
       "      <td>Electronics</td>\n",
       "      <td>59.99</td>\n",
       "      <td>USD</td>\n",
       "      <td>{'available': True, 'quantity': 100}</td>\n",
       "      <td>[https://example.com/products/1004/main.jpg, h...</td>\n",
       "      <td>[{'variantId': '1004_01', 'color': 'Red', 'pri...</td>\n",
       "      <td>{'weight': '0.3kg', 'width': '15cm', 'height':...</td>\n",
       "      <td>{'averageRating': 4.6, 'numberOfReviews': 150}</td>\n",
       "      <td>[{'reviewId': 801, 'userId': 107, 'username': ...</td>\n",
       "    </tr>\n",
       "    <tr>\n",
       "      <th>4</th>\n",
       "      <td>1005</td>\n",
       "      <td>Winter Jacket</td>\n",
       "      <td>Men's water-resistant winter jacket with a fur...</td>\n",
       "      <td>ColdTech</td>\n",
       "      <td>Clothing</td>\n",
       "      <td>129.99</td>\n",
       "      <td>USD</td>\n",
       "      <td>{'available': True, 'quantity': 80}</td>\n",
       "      <td>[https://example.com/products/1005/main.jpg, h...</td>\n",
       "      <td>[{'variantId': '1005_01', 'size': 'M', 'color'...</td>\n",
       "      <td>{'weight': '1.5kg', 'width': '60cm', 'height':...</td>\n",
       "      <td>{'averageRating': 4.5, 'numberOfReviews': 60}</td>\n",
       "      <td>[{'reviewId': 901, 'userId': 109, 'username': ...</td>\n",
       "    </tr>\n",
       "  </tbody>\n",
       "</table>\n",
       "</div>"
      ],
      "text/plain": [
       "   productId           productName  \\\n",
       "0       1001   Wireless Headphones   \n",
       "1       1002       Smartphone Case   \n",
       "2       1003  4K Ultra HD Smart TV   \n",
       "3       1004     Bluetooth Speaker   \n",
       "4       1005         Winter Jacket   \n",
       "\n",
       "                                         description      brand     category  \\\n",
       "0  Noise-cancelling wireless headphones with Blue...   SoundPro  Electronics   \n",
       "1  Durable and shockproof case for smartphones, a...   CaseMate  Accessories   \n",
       "2  55-inch 4K Ultra HD Smart TV with built-in Wi-...  Visionary  Electronics   \n",
       "3  Portable Bluetooth speaker with 12-hour batter...     AudioX  Electronics   \n",
       "4  Men's water-resistant winter jacket with a fur...   ColdTech     Clothing   \n",
       "\n",
       "    price currency                                 stock  \\\n",
       "0  199.99      USD   {'available': True, 'quantity': 50}   \n",
       "1   29.99      USD  {'available': True, 'quantity': 200}   \n",
       "2  799.99      USD   {'available': True, 'quantity': 30}   \n",
       "3   59.99      USD  {'available': True, 'quantity': 100}   \n",
       "4  129.99      USD   {'available': True, 'quantity': 80}   \n",
       "\n",
       "                                              images  \\\n",
       "0  [https://example.com/products/1001/main.jpg, h...   \n",
       "1  [https://example.com/products/1002/main.jpg, h...   \n",
       "2  [https://example.com/products/1003/main.jpg, h...   \n",
       "3  [https://example.com/products/1004/main.jpg, h...   \n",
       "4  [https://example.com/products/1005/main.jpg, h...   \n",
       "\n",
       "                                            variants  \\\n",
       "0  [{'variantId': '1001_01', 'color': 'Black', 'p...   \n",
       "1  [{'variantId': '1002_01', 'color': 'Black', 'p...   \n",
       "2  [{'variantId': '1003_01', 'screenSize': '55 in...   \n",
       "3  [{'variantId': '1004_01', 'color': 'Red', 'pri...   \n",
       "4  [{'variantId': '1005_01', 'size': 'M', 'color'...   \n",
       "\n",
       "                                          dimensions  \\\n",
       "0  {'weight': '0.5kg', 'width': '18cm', 'height':...   \n",
       "1  {'weight': '0.2kg', 'width': '8cm', 'height': ...   \n",
       "2  {'weight': '15kg', 'width': '123cm', 'height':...   \n",
       "3  {'weight': '0.3kg', 'width': '15cm', 'height':...   \n",
       "4  {'weight': '1.5kg', 'width': '60cm', 'height':...   \n",
       "\n",
       "                                          ratings  \\\n",
       "0  {'averageRating': 4.7, 'numberOfReviews': 120}   \n",
       "1   {'averageRating': 4.4, 'numberOfReviews': 80}   \n",
       "2  {'averageRating': 4.8, 'numberOfReviews': 250}   \n",
       "3  {'averageRating': 4.6, 'numberOfReviews': 150}   \n",
       "4   {'averageRating': 4.5, 'numberOfReviews': 60}   \n",
       "\n",
       "                                             reviews  \n",
       "0  [{'reviewId': 501, 'userId': 101, 'username': ...  \n",
       "1  [{'reviewId': 601, 'userId': 103, 'username': ...  \n",
       "2  [{'reviewId': 701, 'userId': 105, 'username': ...  \n",
       "3  [{'reviewId': 801, 'userId': 107, 'username': ...  \n",
       "4  [{'reviewId': 901, 'userId': 109, 'username': ...  "
      ]
     },
     "execution_count": 65,
     "metadata": {},
     "output_type": "execute_result"
    }
   ],
   "source": [
    "df"
   ]
  },
  {
   "cell_type": "code",
   "execution_count": 70,
   "id": "d8f0bacf-8bf0-4c1e-aad6-12fe435ee290",
   "metadata": {},
   "outputs": [],
   "source": [
    "for i in df['dimensions']:\n",
    "    for j in i:\n",
    "        df[j]=i[j]\n",
    "df.drop('dimensions',axis=1,inplace=True)"
   ]
  },
  {
   "cell_type": "code",
   "execution_count": 71,
   "id": "91083af1-a368-4a3b-b90a-a737f64c8b35",
   "metadata": {},
   "outputs": [
    {
     "data": {
      "text/plain": [
       "category\n",
       "Electronics    3\n",
       "Accessories    1\n",
       "Clothing       1\n",
       "Name: count, dtype: int64"
      ]
     },
     "execution_count": 71,
     "metadata": {},
     "output_type": "execute_result"
    }
   ],
   "source": [
    "df['category'].value_counts()"
   ]
  },
  {
   "cell_type": "code",
   "execution_count": 72,
   "id": "682ae6dd-9098-4cf3-a34d-144937f75184",
   "metadata": {},
   "outputs": [
    {
     "data": {
      "text/plain": [
       "productName\n",
       "4K Ultra HD Smart TV    799.99\n",
       "Bluetooth Speaker        59.99\n",
       "Smartphone Case          29.99\n",
       "Winter Jacket           129.99\n",
       "Wireless Headphones     199.99\n",
       "Name: price, dtype: float64"
      ]
     },
     "execution_count": 72,
     "metadata": {},
     "output_type": "execute_result"
    }
   ],
   "source": [
    "df.groupby('productName')['price'].sum()"
   ]
  },
  {
   "cell_type": "code",
   "execution_count": 73,
   "id": "20bd9255-0cb1-49a8-8800-b562e814e177",
   "metadata": {},
   "outputs": [
    {
     "data": {
      "text/html": [
       "<div>\n",
       "<style scoped>\n",
       "    .dataframe tbody tr th:only-of-type {\n",
       "        vertical-align: middle;\n",
       "    }\n",
       "\n",
       "    .dataframe tbody tr th {\n",
       "        vertical-align: top;\n",
       "    }\n",
       "\n",
       "    .dataframe thead th {\n",
       "        text-align: right;\n",
       "    }\n",
       "</style>\n",
       "<table border=\"1\" class=\"dataframe\">\n",
       "  <thead>\n",
       "    <tr style=\"text-align: right;\">\n",
       "      <th></th>\n",
       "      <th>productId</th>\n",
       "      <th>price</th>\n",
       "    </tr>\n",
       "  </thead>\n",
       "  <tbody>\n",
       "    <tr>\n",
       "      <th>count</th>\n",
       "      <td>5.000000</td>\n",
       "      <td>5.000000</td>\n",
       "    </tr>\n",
       "    <tr>\n",
       "      <th>mean</th>\n",
       "      <td>1003.000000</td>\n",
       "      <td>243.990000</td>\n",
       "    </tr>\n",
       "    <tr>\n",
       "      <th>std</th>\n",
       "      <td>1.581139</td>\n",
       "      <td>317.694822</td>\n",
       "    </tr>\n",
       "    <tr>\n",
       "      <th>min</th>\n",
       "      <td>1001.000000</td>\n",
       "      <td>29.990000</td>\n",
       "    </tr>\n",
       "    <tr>\n",
       "      <th>25%</th>\n",
       "      <td>1002.000000</td>\n",
       "      <td>59.990000</td>\n",
       "    </tr>\n",
       "    <tr>\n",
       "      <th>50%</th>\n",
       "      <td>1003.000000</td>\n",
       "      <td>129.990000</td>\n",
       "    </tr>\n",
       "    <tr>\n",
       "      <th>75%</th>\n",
       "      <td>1004.000000</td>\n",
       "      <td>199.990000</td>\n",
       "    </tr>\n",
       "    <tr>\n",
       "      <th>max</th>\n",
       "      <td>1005.000000</td>\n",
       "      <td>799.990000</td>\n",
       "    </tr>\n",
       "  </tbody>\n",
       "</table>\n",
       "</div>"
      ],
      "text/plain": [
       "         productId       price\n",
       "count     5.000000    5.000000\n",
       "mean   1003.000000  243.990000\n",
       "std       1.581139  317.694822\n",
       "min    1001.000000   29.990000\n",
       "25%    1002.000000   59.990000\n",
       "50%    1003.000000  129.990000\n",
       "75%    1004.000000  199.990000\n",
       "max    1005.000000  799.990000"
      ]
     },
     "execution_count": 73,
     "metadata": {},
     "output_type": "execute_result"
    }
   ],
   "source": [
    "df.describe()"
   ]
  },
  {
   "cell_type": "code",
   "execution_count": 74,
   "id": "106ba514-f3ad-40b3-be97-d8fcc85edbeb",
   "metadata": {},
   "outputs": [
    {
     "name": "stdout",
     "output_type": "stream",
     "text": [
      "<class 'pandas.core.frame.DataFrame'>\n",
      "RangeIndex: 5 entries, 0 to 4\n",
      "Data columns (total 16 columns):\n",
      " #   Column       Non-Null Count  Dtype  \n",
      "---  ------       --------------  -----  \n",
      " 0   productId    5 non-null      int64  \n",
      " 1   productName  5 non-null      object \n",
      " 2   description  5 non-null      object \n",
      " 3   brand        5 non-null      object \n",
      " 4   category     5 non-null      object \n",
      " 5   price        5 non-null      float64\n",
      " 6   currency     5 non-null      object \n",
      " 7   stock        5 non-null      object \n",
      " 8   images       5 non-null      object \n",
      " 9   variants     5 non-null      object \n",
      " 10  ratings      5 non-null      object \n",
      " 11  reviews      5 non-null      object \n",
      " 12  weight       5 non-null      object \n",
      " 13  width        5 non-null      object \n",
      " 14  height       5 non-null      object \n",
      " 15  depth        5 non-null      object \n",
      "dtypes: float64(1), int64(1), object(14)\n",
      "memory usage: 772.0+ bytes\n"
     ]
    }
   ],
   "source": [
    "df.info()"
   ]
  },
  {
   "cell_type": "code",
   "execution_count": 75,
   "id": "c8be3d86-42b1-4d9a-9ddd-6af9f79f48ed",
   "metadata": {},
   "outputs": [
    {
     "data": {
      "text/plain": [
       "<seaborn.axisgrid.PairGrid at 0x209ddbdfed0>"
      ]
     },
     "execution_count": 75,
     "metadata": {},
     "output_type": "execute_result"
    },
    {
     "data": {
      "image/png": "[encoded data removed]",
      "text/plain": [
       "<Figure size 500x500 with 6 Axes>"
      ]
     },
     "metadata": {},
     "output_type": "display_data"
    }
   ],
   "source": [
    "sns.pairplot(df)"
   ]
  },
  {
   "cell_type": "code",
   "execution_count": 76,
   "id": "aec99895-de53-40d8-b5fd-9e01c808d186",
   "metadata": {},
   "outputs": [
    {
     "data": {
      "text/plain": [
       "0    {'averageRating': 4.7, 'numberOfReviews': 120}\n",
       "1     {'averageRating': 4.4, 'numberOfReviews': 80}\n",
       "2    {'averageRating': 4.8, 'numberOfReviews': 250}\n",
       "3    {'averageRating': 4.6, 'numberOfReviews': 150}\n",
       "4     {'averageRating': 4.5, 'numberOfReviews': 60}\n",
       "Name: ratings, dtype: object"
      ]
     },
     "execution_count": 76,
     "metadata": {},
     "output_type": "execute_result"
    }
   ],
   "source": [
    "df['ratings']"
   ]
  },
  {
   "cell_type": "code",
   "execution_count": 77,
   "id": "4d1fa195-0572-4ee9-bb53-7b0e0380a2c4",
   "metadata": {},
   "outputs": [],
   "source": [
    "averageRating=[]\n",
    "numberOfReviews=[]\n",
    "x=dict(df['ratings'])\n",
    "for i in range(df.shape[0]):\n",
    "    averageRating.append(x[i]['averageRating'])\n",
    "    numberOfReviews.append(x[i]['numberOfReviews'])\n",
    "    \n",
    "df['numberOfReviews']=numberOfReviews\n",
    "df['averageRating'] = averageRating\n",
    "df.drop('ratings',axis=1,inplace=True)   "
   ]
  },
  {
   "cell_type": "code",
   "execution_count": 78,
   "id": "68a3e52d-72ec-477b-b0f2-aedc00bd315b",
   "metadata": {},
   "outputs": [],
   "source": [
    "available=[]\n",
    "quantity=[]\n",
    "x=dict(df['stock'])\n",
    "for i in range(df.shape[0]):\n",
    "    available.append(x[i]['available'])\n",
    "    quantity.append(x[i]['quantity'])\n",
    "    \n",
    "df['available']=available\n",
    "df['quantity'] = quantity\n",
    "df.drop('stock',axis=1,inplace=True)"
   ]
  },
  {
   "cell_type": "code",
   "execution_count": 80,
   "id": "c57cc84a-ded2-4f8a-b870-637e12338051",
   "metadata": {},
   "outputs": [
    {
     "name": "stdout",
     "output_type": "stream",
     "text": [
      "{'reviewId': 501, 'userId': 101, 'username': 'techguy123', 'rating': 5, 'comment': 'Amazing sound quality and battery life!'}\n",
      "{'reviewId': 502, 'userId': 102, 'username': 'jane_doe', 'rating': 4, 'comment': 'Great headphones but a bit pricey.'}\n",
      "{'reviewId': 601, 'userId': 103, 'username': 'caseuser456', 'rating': 4, 'comment': 'Very sturdy and fits perfectly.'}\n",
      "{'reviewId': 602, 'userId': 104, 'username': 'mobile_fan', 'rating': 5, 'comment': \"Best case I've bought for my phone!\"}\n",
      "{'reviewId': 701, 'userId': 105, 'username': 'techlover123', 'rating': 5, 'comment': 'Incredible picture quality, streaming works seamlessly.'}\n",
      "{'reviewId': 702, 'userId': 106, 'username': 'homecinema', 'rating': 4, 'comment': 'Great TV, but a little bulky.'}\n",
      "{'reviewId': 801, 'userId': 107, 'username': 'musicfan23', 'rating': 5, 'comment': 'Excellent sound quality for its size!'}\n",
      "{'reviewId': 802, 'userId': 108, 'username': 'outdoor_lover', 'rating': 4, 'comment': 'Great for outdoor use, but the battery could last longer.'}\n",
      "{'reviewId': 901, 'userId': 109, 'username': 'outdoor_adventurer', 'rating': 5, 'comment': 'Perfect for cold weather, very comfortable!'}\n",
      "{'reviewId': 902, 'userId': 110, 'username': 'winter_gear', 'rating': 4, 'comment': 'Nice jacket, but could be a little warmer.'}\n"
     ]
    }
   ],
   "source": [
    "for i in df['reviews']:\n",
    "    for j in i:\n",
    "        print(j)\n",
    "        "
   ]
  },
  {
   "cell_type": "code",
   "execution_count": 81,
   "id": "10a40c0c-07a3-4206-8c55-9c449a88fa1b",
   "metadata": {},
   "outputs": [
    {
     "data": {
      "text/html": [
       "<div>\n",
       "<style scoped>\n",
       "    .dataframe tbody tr th:only-of-type {\n",
       "        vertical-align: middle;\n",
       "    }\n",
       "\n",
       "    .dataframe tbody tr th {\n",
       "        vertical-align: top;\n",
       "    }\n",
       "\n",
       "    .dataframe thead th {\n",
       "        text-align: right;\n",
       "    }\n",
       "</style>\n",
       "<table border=\"1\" class=\"dataframe\">\n",
       "  <thead>\n",
       "    <tr style=\"text-align: right;\">\n",
       "      <th></th>\n",
       "      <th>productId</th>\n",
       "      <th>productName</th>\n",
       "      <th>description</th>\n",
       "      <th>brand</th>\n",
       "      <th>category</th>\n",
       "      <th>price</th>\n",
       "      <th>currency</th>\n",
       "      <th>images</th>\n",
       "      <th>variants</th>\n",
       "      <th>reviews</th>\n",
       "      <th>weight</th>\n",
       "      <th>width</th>\n",
       "      <th>height</th>\n",
       "      <th>depth</th>\n",
       "      <th>numberOfReviews</th>\n",
       "      <th>averageRating</th>\n",
       "      <th>available</th>\n",
       "      <th>quantity</th>\n",
       "    </tr>\n",
       "  </thead>\n",
       "  <tbody>\n",
       "    <tr>\n",
       "      <th>0</th>\n",
       "      <td>1001</td>\n",
       "      <td>Wireless Headphones</td>\n",
       "      <td>Noise-cancelling wireless headphones with Blue...</td>\n",
       "      <td>SoundPro</td>\n",
       "      <td>Electronics</td>\n",
       "      <td>199.99</td>\n",
       "      <td>USD</td>\n",
       "      <td>[https://example.com/products/1001/main.jpg, h...</td>\n",
       "      <td>[{'variantId': '1001_01', 'color': 'Black', 'p...</td>\n",
       "      <td>[{'reviewId': 501, 'userId': 101, 'username': ...</td>\n",
       "      <td>1.5kg</td>\n",
       "      <td>60cm</td>\n",
       "      <td>85cm</td>\n",
       "      <td>5cm</td>\n",
       "      <td>120</td>\n",
       "      <td>4.7</td>\n",
       "      <td>True</td>\n",
       "      <td>50</td>\n",
       "    </tr>\n",
       "    <tr>\n",
       "      <th>1</th>\n",
       "      <td>1002</td>\n",
       "      <td>Smartphone Case</td>\n",
       "      <td>Durable and shockproof case for smartphones, a...</td>\n",
       "      <td>CaseMate</td>\n",
       "      <td>Accessories</td>\n",
       "      <td>29.99</td>\n",
       "      <td>USD</td>\n",
       "      <td>[https://example.com/products/1002/main.jpg, h...</td>\n",
       "      <td>[{'variantId': '1002_01', 'color': 'Black', 'p...</td>\n",
       "      <td>[{'reviewId': 601, 'userId': 103, 'username': ...</td>\n",
       "      <td>1.5kg</td>\n",
       "      <td>60cm</td>\n",
       "      <td>85cm</td>\n",
       "      <td>5cm</td>\n",
       "      <td>80</td>\n",
       "      <td>4.4</td>\n",
       "      <td>True</td>\n",
       "      <td>200</td>\n",
       "    </tr>\n",
       "    <tr>\n",
       "      <th>2</th>\n",
       "      <td>1003</td>\n",
       "      <td>4K Ultra HD Smart TV</td>\n",
       "      <td>55-inch 4K Ultra HD Smart TV with built-in Wi-...</td>\n",
       "      <td>Visionary</td>\n",
       "      <td>Electronics</td>\n",
       "      <td>799.99</td>\n",
       "      <td>USD</td>\n",
       "      <td>[https://example.com/products/1003/main.jpg, h...</td>\n",
       "      <td>[{'variantId': '1003_01', 'screenSize': '55 in...</td>\n",
       "      <td>[{'reviewId': 701, 'userId': 105, 'username': ...</td>\n",
       "      <td>1.5kg</td>\n",
       "      <td>60cm</td>\n",
       "      <td>85cm</td>\n",
       "      <td>5cm</td>\n",
       "      <td>250</td>\n",
       "      <td>4.8</td>\n",
       "      <td>True</td>\n",
       "      <td>30</td>\n",
       "    </tr>\n",
       "    <tr>\n",
       "      <th>3</th>\n",
       "      <td>1004</td>\n",
       "      <td>Bluetooth Speaker</td>\n",
       "      <td>Portable Bluetooth speaker with 12-hour batter...</td>\n",
       "      <td>AudioX</td>\n",
       "      <td>Electronics</td>\n",
       "      <td>59.99</td>\n",
       "      <td>USD</td>\n",
       "      <td>[https://example.com/products/1004/main.jpg, h...</td>\n",
       "      <td>[{'variantId': '1004_01', 'color': 'Red', 'pri...</td>\n",
       "      <td>[{'reviewId': 801, 'userId': 107, 'username': ...</td>\n",
       "      <td>1.5kg</td>\n",
       "      <td>60cm</td>\n",
       "      <td>85cm</td>\n",
       "      <td>5cm</td>\n",
       "      <td>150</td>\n",
       "      <td>4.6</td>\n",
       "      <td>True</td>\n",
       "      <td>100</td>\n",
       "    </tr>\n",
       "    <tr>\n",
       "      <th>4</th>\n",
       "      <td>1005</td>\n",
       "      <td>Winter Jacket</td>\n",
       "      <td>Men's water-resistant winter jacket with a fur...</td>\n",
       "      <td>ColdTech</td>\n",
       "      <td>Clothing</td>\n",
       "      <td>129.99</td>\n",
       "      <td>USD</td>\n",
       "      <td>[https://example.com/products/1005/main.jpg, h...</td>\n",
       "      <td>[{'variantId': '1005_01', 'size': 'M', 'color'...</td>\n",
       "      <td>[{'reviewId': 901, 'userId': 109, 'username': ...</td>\n",
       "      <td>1.5kg</td>\n",
       "      <td>60cm</td>\n",
       "      <td>85cm</td>\n",
       "      <td>5cm</td>\n",
       "      <td>60</td>\n",
       "      <td>4.5</td>\n",
       "      <td>True</td>\n",
       "      <td>80</td>\n",
       "    </tr>\n",
       "  </tbody>\n",
       "</table>\n",
       "</div>"
      ],
      "text/plain": [
       "   productId           productName  \\\n",
       "0       1001   Wireless Headphones   \n",
       "1       1002       Smartphone Case   \n",
       "2       1003  4K Ultra HD Smart TV   \n",
       "3       1004     Bluetooth Speaker   \n",
       "4       1005         Winter Jacket   \n",
       "\n",
       "                                         description      brand     category  \\\n",
       "0  Noise-cancelling wireless headphones with Blue...   SoundPro  Electronics   \n",
       "1  Durable and shockproof case for smartphones, a...   CaseMate  Accessories   \n",
       "2  55-inch 4K Ultra HD Smart TV with built-in Wi-...  Visionary  Electronics   \n",
       "3  Portable Bluetooth speaker with 12-hour batter...     AudioX  Electronics   \n",
       "4  Men's water-resistant winter jacket with a fur...   ColdTech     Clothing   \n",
       "\n",
       "    price currency                                             images  \\\n",
       "0  199.99      USD  [https://example.com/products/1001/main.jpg, h...   \n",
       "1   29.99      USD  [https://example.com/products/1002/main.jpg, h...   \n",
       "2  799.99      USD  [https://example.com/products/1003/main.jpg, h...   \n",
       "3   59.99      USD  [https://example.com/products/1004/main.jpg, h...   \n",
       "4  129.99      USD  [https://example.com/products/1005/main.jpg, h...   \n",
       "\n",
       "                                            variants  \\\n",
       "0  [{'variantId': '1001_01', 'color': 'Black', 'p...   \n",
       "1  [{'variantId': '1002_01', 'color': 'Black', 'p...   \n",
       "2  [{'variantId': '1003_01', 'screenSize': '55 in...   \n",
       "3  [{'variantId': '1004_01', 'color': 'Red', 'pri...   \n",
       "4  [{'variantId': '1005_01', 'size': 'M', 'color'...   \n",
       "\n",
       "                                             reviews weight width height  \\\n",
       "0  [{'reviewId': 501, 'userId': 101, 'username': ...  1.5kg  60cm   85cm   \n",
       "1  [{'reviewId': 601, 'userId': 103, 'username': ...  1.5kg  60cm   85cm   \n",
       "2  [{'reviewId': 701, 'userId': 105, 'username': ...  1.5kg  60cm   85cm   \n",
       "3  [{'reviewId': 801, 'userId': 107, 'username': ...  1.5kg  60cm   85cm   \n",
       "4  [{'reviewId': 901, 'userId': 109, 'username': ...  1.5kg  60cm   85cm   \n",
       "\n",
       "  depth  numberOfReviews  averageRating  available  quantity  \n",
       "0   5cm              120            4.7       True        50  \n",
       "1   5cm               80            4.4       True       200  \n",
       "2   5cm              250            4.8       True        30  \n",
       "3   5cm              150            4.6       True       100  \n",
       "4   5cm               60            4.5       True        80  "
      ]
     },
     "execution_count": 81,
     "metadata": {},
     "output_type": "execute_result"
    }
   ],
   "source": [
    "df"
   ]
  },
  {
   "cell_type": "code",
   "execution_count": 82,
   "id": "05f4aa1c-bc8a-41ac-a842-2b1e3adcef1d",
   "metadata": {},
   "outputs": [],
   "source": [
    "import json"
   ]
  },
  {
   "cell_type": "code",
   "execution_count": 84,
   "id": "e0351ac9-0a87-4d2f-8962-54699e526e20",
   "metadata": {},
   "outputs": [],
   "source": [
    "data1 = json.load(open(\"D:/Advanced_training/Advanced-training-Python-AIML/Day-8/file.json\"))"
   ]
  },
  {
   "cell_type": "code",
   "execution_count": 85,
   "id": "ef9dfff1-354e-4d56-a85a-2dff86078807",
   "metadata": {},
   "outputs": [],
   "source": [
    "df1 = pd.json_normalize(data1)"
   ]
  },
  {
   "cell_type": "code",
   "execution_count": 86,
   "id": "e37b97f6-8712-4c44-b6c6-dae7a832904d",
   "metadata": {},
   "outputs": [
    {
     "data": {
      "text/html": [
       "<div>\n",
       "<style scoped>\n",
       "    .dataframe tbody tr th:only-of-type {\n",
       "        vertical-align: middle;\n",
       "    }\n",
       "\n",
       "    .dataframe tbody tr th {\n",
       "        vertical-align: top;\n",
       "    }\n",
       "\n",
       "    .dataframe thead th {\n",
       "        text-align: right;\n",
       "    }\n",
       "</style>\n",
       "<table border=\"1\" class=\"dataframe\">\n",
       "  <thead>\n",
       "    <tr style=\"text-align: right;\">\n",
       "      <th></th>\n",
       "      <th>productId</th>\n",
       "      <th>productName</th>\n",
       "      <th>description</th>\n",
       "      <th>brand</th>\n",
       "      <th>category</th>\n",
       "      <th>price</th>\n",
       "      <th>currency</th>\n",
       "      <th>images</th>\n",
       "      <th>variants</th>\n",
       "      <th>reviews</th>\n",
       "      <th>stock.available</th>\n",
       "      <th>stock.quantity</th>\n",
       "      <th>dimensions.weight</th>\n",
       "      <th>dimensions.width</th>\n",
       "      <th>dimensions.height</th>\n",
       "      <th>dimensions.depth</th>\n",
       "      <th>ratings.averageRating</th>\n",
       "      <th>ratings.numberOfReviews</th>\n",
       "    </tr>\n",
       "  </thead>\n",
       "  <tbody>\n",
       "    <tr>\n",
       "      <th>0</th>\n",
       "      <td>1001</td>\n",
       "      <td>Wireless Headphones</td>\n",
       "      <td>Noise-cancelling wireless headphones with Blue...</td>\n",
       "      <td>SoundPro</td>\n",
       "      <td>Electronics</td>\n",
       "      <td>199.99</td>\n",
       "      <td>USD</td>\n",
       "      <td>[https://example.com/products/1001/main.jpg, h...</td>\n",
       "      <td>[{'variantId': '1001_01', 'color': 'Black', 'p...</td>\n",
       "      <td>[{'reviewId': 501, 'userId': 101, 'username': ...</td>\n",
       "      <td>True</td>\n",
       "      <td>50</td>\n",
       "      <td>0.5kg</td>\n",
       "      <td>18cm</td>\n",
       "      <td>20cm</td>\n",
       "      <td>8cm</td>\n",
       "      <td>4.7</td>\n",
       "      <td>120</td>\n",
       "    </tr>\n",
       "    <tr>\n",
       "      <th>1</th>\n",
       "      <td>1002</td>\n",
       "      <td>Smartphone Case</td>\n",
       "      <td>Durable and shockproof case for smartphones, a...</td>\n",
       "      <td>CaseMate</td>\n",
       "      <td>Accessories</td>\n",
       "      <td>29.99</td>\n",
       "      <td>USD</td>\n",
       "      <td>[https://example.com/products/1002/main.jpg, h...</td>\n",
       "      <td>[{'variantId': '1002_01', 'color': 'Black', 'p...</td>\n",
       "      <td>[{'reviewId': 601, 'userId': 103, 'username': ...</td>\n",
       "      <td>True</td>\n",
       "      <td>200</td>\n",
       "      <td>0.2kg</td>\n",
       "      <td>8cm</td>\n",
       "      <td>15cm</td>\n",
       "      <td>1cm</td>\n",
       "      <td>4.4</td>\n",
       "      <td>80</td>\n",
       "    </tr>\n",
       "    <tr>\n",
       "      <th>2</th>\n",
       "      <td>1003</td>\n",
       "      <td>4K Ultra HD Smart TV</td>\n",
       "      <td>55-inch 4K Ultra HD Smart TV with built-in Wi-...</td>\n",
       "      <td>Visionary</td>\n",
       "      <td>Electronics</td>\n",
       "      <td>799.99</td>\n",
       "      <td>USD</td>\n",
       "      <td>[https://example.com/products/1003/main.jpg, h...</td>\n",
       "      <td>[{'variantId': '1003_01', 'screenSize': '55 in...</td>\n",
       "      <td>[{'reviewId': 701, 'userId': 105, 'username': ...</td>\n",
       "      <td>True</td>\n",
       "      <td>30</td>\n",
       "      <td>15kg</td>\n",
       "      <td>123cm</td>\n",
       "      <td>80cm</td>\n",
       "      <td>10cm</td>\n",
       "      <td>4.8</td>\n",
       "      <td>250</td>\n",
       "    </tr>\n",
       "    <tr>\n",
       "      <th>3</th>\n",
       "      <td>1004</td>\n",
       "      <td>Bluetooth Speaker</td>\n",
       "      <td>Portable Bluetooth speaker with 12-hour batter...</td>\n",
       "      <td>AudioX</td>\n",
       "      <td>Electronics</td>\n",
       "      <td>59.99</td>\n",
       "      <td>USD</td>\n",
       "      <td>[https://example.com/products/1004/main.jpg, h...</td>\n",
       "      <td>[{'variantId': '1004_01', 'color': 'Red', 'pri...</td>\n",
       "      <td>[{'reviewId': 801, 'userId': 107, 'username': ...</td>\n",
       "      <td>True</td>\n",
       "      <td>100</td>\n",
       "      <td>0.3kg</td>\n",
       "      <td>15cm</td>\n",
       "      <td>8cm</td>\n",
       "      <td>5cm</td>\n",
       "      <td>4.6</td>\n",
       "      <td>150</td>\n",
       "    </tr>\n",
       "    <tr>\n",
       "      <th>4</th>\n",
       "      <td>1005</td>\n",
       "      <td>Winter Jacket</td>\n",
       "      <td>Men's water-resistant winter jacket with a fur...</td>\n",
       "      <td>ColdTech</td>\n",
       "      <td>Clothing</td>\n",
       "      <td>129.99</td>\n",
       "      <td>USD</td>\n",
       "      <td>[https://example.com/products/1005/main.jpg, h...</td>\n",
       "      <td>[{'variantId': '1005_01', 'size': 'M', 'color'...</td>\n",
       "      <td>[{'reviewId': 901, 'userId': 109, 'username': ...</td>\n",
       "      <td>True</td>\n",
       "      <td>80</td>\n",
       "      <td>1.5kg</td>\n",
       "      <td>60cm</td>\n",
       "      <td>85cm</td>\n",
       "      <td>5cm</td>\n",
       "      <td>4.5</td>\n",
       "      <td>60</td>\n",
       "    </tr>\n",
       "  </tbody>\n",
       "</table>\n",
       "</div>"
      ],
      "text/plain": [
       "   productId           productName  \\\n",
       "0       1001   Wireless Headphones   \n",
       "1       1002       Smartphone Case   \n",
       "2       1003  4K Ultra HD Smart TV   \n",
       "3       1004     Bluetooth Speaker   \n",
       "4       1005         Winter Jacket   \n",
       "\n",
       "                                         description      brand     category  \\\n",
       "0  Noise-cancelling wireless headphones with Blue...   SoundPro  Electronics   \n",
       "1  Durable and shockproof case for smartphones, a...   CaseMate  Accessories   \n",
       "2  55-inch 4K Ultra HD Smart TV with built-in Wi-...  Visionary  Electronics   \n",
       "3  Portable Bluetooth speaker with 12-hour batter...     AudioX  Electronics   \n",
       "4  Men's water-resistant winter jacket with a fur...   ColdTech     Clothing   \n",
       "\n",
       "    price currency                                             images  \\\n",
       "0  199.99      USD  [https://example.com/products/1001/main.jpg, h...   \n",
       "1   29.99      USD  [https://example.com/products/1002/main.jpg, h...   \n",
       "2  799.99      USD  [https://example.com/products/1003/main.jpg, h...   \n",
       "3   59.99      USD  [https://example.com/products/1004/main.jpg, h...   \n",
       "4  129.99      USD  [https://example.com/products/1005/main.jpg, h...   \n",
       "\n",
       "                                            variants  \\\n",
       "0  [{'variantId': '1001_01', 'color': 'Black', 'p...   \n",
       "1  [{'variantId': '1002_01', 'color': 'Black', 'p...   \n",
       "2  [{'variantId': '1003_01', 'screenSize': '55 in...   \n",
       "3  [{'variantId': '1004_01', 'color': 'Red', 'pri...   \n",
       "4  [{'variantId': '1005_01', 'size': 'M', 'color'...   \n",
       "\n",
       "                                             reviews  stock.available  \\\n",
       "0  [{'reviewId': 501, 'userId': 101, 'username': ...             True   \n",
       "1  [{'reviewId': 601, 'userId': 103, 'username': ...             True   \n",
       "2  [{'reviewId': 701, 'userId': 105, 'username': ...             True   \n",
       "3  [{'reviewId': 801, 'userId': 107, 'username': ...             True   \n",
       "4  [{'reviewId': 901, 'userId': 109, 'username': ...             True   \n",
       "\n",
       "   stock.quantity dimensions.weight dimensions.width dimensions.height  \\\n",
       "0              50             0.5kg             18cm              20cm   \n",
       "1             200             0.2kg              8cm              15cm   \n",
       "2              30              15kg            123cm              80cm   \n",
       "3             100             0.3kg             15cm               8cm   \n",
       "4              80             1.5kg             60cm              85cm   \n",
       "\n",
       "  dimensions.depth  ratings.averageRating  ratings.numberOfReviews  \n",
       "0              8cm                    4.7                      120  \n",
       "1              1cm                    4.4                       80  \n",
       "2             10cm                    4.8                      250  \n",
       "3              5cm                    4.6                      150  \n",
       "4              5cm                    4.5                       60  "
      ]
     },
     "execution_count": 86,
     "metadata": {},
     "output_type": "execute_result"
    }
   ],
   "source": [
    "df1.head()"
   ]
  },
  {
   "cell_type": "code",
   "execution_count": 87,
   "id": "27e55d6e-45e7-4033-97d4-62287a28265f",
   "metadata": {},
   "outputs": [
    {
     "name": "stdout",
     "output_type": "stream",
     "text": [
      "<class 'pandas.core.frame.DataFrame'>\n",
      "RangeIndex: 5 entries, 0 to 4\n",
      "Data columns (total 18 columns):\n",
      " #   Column                   Non-Null Count  Dtype  \n",
      "---  ------                   --------------  -----  \n",
      " 0   productId                5 non-null      int64  \n",
      " 1   productName              5 non-null      object \n",
      " 2   description              5 non-null      object \n",
      " 3   brand                    5 non-null      object \n",
      " 4   category                 5 non-null      object \n",
      " 5   price                    5 non-null      float64\n",
      " 6   currency                 5 non-null      object \n",
      " 7   images                   5 non-null      object \n",
      " 8   variants                 5 non-null      object \n",
      " 9   reviews                  5 non-null      object \n",
      " 10  stock.available          5 non-null      bool   \n",
      " 11  stock.quantity           5 non-null      int64  \n",
      " 12  dimensions.weight        5 non-null      object \n",
      " 13  dimensions.width         5 non-null      object \n",
      " 14  dimensions.height        5 non-null      object \n",
      " 15  dimensions.depth         5 non-null      object \n",
      " 16  ratings.averageRating    5 non-null      float64\n",
      " 17  ratings.numberOfReviews  5 non-null      int64  \n",
      "dtypes: bool(1), float64(2), int64(3), object(12)\n",
      "memory usage: 817.0+ bytes\n"
     ]
    }
   ],
   "source": [
    "df1.info()"
   ]
  },
  {
   "cell_type": "code",
   "execution_count": 90,
   "id": "8e9c628a-49e9-4098-b011-82fed8049166",
   "metadata": {},
   "outputs": [],
   "source": [
    "import re\n",
    "\n",
    "columns_to_clean = ['dimensions.weight','dimensions.width','dimensions.height','dimensions.depth']\n",
    "for col in columns_to_clean:\n",
    "    df1[col] = df1[col].astype(str).str.replace(r'[^\\d.]','',regex=True)\n",
    "    df1[col] = pd.to_numeric(df1[col],errors='coerce')"
   ]
  },
  {
   "cell_type": "code",
   "execution_count": 91,
   "id": "708a2128-cf2a-4254-93dc-5bd3ed81bb83",
   "metadata": {},
   "outputs": [
    {
     "data": {
      "text/html": [
       "<div>\n",
       "<style scoped>\n",
       "    .dataframe tbody tr th:only-of-type {\n",
       "        vertical-align: middle;\n",
       "    }\n",
       "\n",
       "    .dataframe tbody tr th {\n",
       "        vertical-align: top;\n",
       "    }\n",
       "\n",
       "    .dataframe thead th {\n",
       "        text-align: right;\n",
       "    }\n",
       "</style>\n",
       "<table border=\"1\" class=\"dataframe\">\n",
       "  <thead>\n",
       "    <tr style=\"text-align: right;\">\n",
       "      <th></th>\n",
       "      <th>productId</th>\n",
       "      <th>productName</th>\n",
       "      <th>description</th>\n",
       "      <th>brand</th>\n",
       "      <th>category</th>\n",
       "      <th>price</th>\n",
       "      <th>currency</th>\n",
       "      <th>images</th>\n",
       "      <th>variants</th>\n",
       "      <th>reviews</th>\n",
       "      <th>stock.available</th>\n",
       "      <th>stock.quantity</th>\n",
       "      <th>dimensions.weight</th>\n",
       "      <th>dimensions.width</th>\n",
       "      <th>dimensions.height</th>\n",
       "      <th>dimensions.depth</th>\n",
       "      <th>ratings.averageRating</th>\n",
       "      <th>ratings.numberOfReviews</th>\n",
       "    </tr>\n",
       "  </thead>\n",
       "  <tbody>\n",
       "    <tr>\n",
       "      <th>0</th>\n",
       "      <td>1001</td>\n",
       "      <td>Wireless Headphones</td>\n",
       "      <td>Noise-cancelling wireless headphones with Blue...</td>\n",
       "      <td>SoundPro</td>\n",
       "      <td>Electronics</td>\n",
       "      <td>199.99</td>\n",
       "      <td>USD</td>\n",
       "      <td>[https://example.com/products/1001/main.jpg, h...</td>\n",
       "      <td>[{'variantId': '1001_01', 'color': 'Black', 'p...</td>\n",
       "      <td>[{'reviewId': 501, 'userId': 101, 'username': ...</td>\n",
       "      <td>True</td>\n",
       "      <td>50</td>\n",
       "      <td>0.5</td>\n",
       "      <td>18</td>\n",
       "      <td>20</td>\n",
       "      <td>8</td>\n",
       "      <td>4.7</td>\n",
       "      <td>120</td>\n",
       "    </tr>\n",
       "    <tr>\n",
       "      <th>1</th>\n",
       "      <td>1002</td>\n",
       "      <td>Smartphone Case</td>\n",
       "      <td>Durable and shockproof case for smartphones, a...</td>\n",
       "      <td>CaseMate</td>\n",
       "      <td>Accessories</td>\n",
       "      <td>29.99</td>\n",
       "      <td>USD</td>\n",
       "      <td>[https://example.com/products/1002/main.jpg, h...</td>\n",
       "      <td>[{'variantId': '1002_01', 'color': 'Black', 'p...</td>\n",
       "      <td>[{'reviewId': 601, 'userId': 103, 'username': ...</td>\n",
       "      <td>True</td>\n",
       "      <td>200</td>\n",
       "      <td>0.2</td>\n",
       "      <td>8</td>\n",
       "      <td>15</td>\n",
       "      <td>1</td>\n",
       "      <td>4.4</td>\n",
       "      <td>80</td>\n",
       "    </tr>\n",
       "    <tr>\n",
       "      <th>2</th>\n",
       "      <td>1003</td>\n",
       "      <td>4K Ultra HD Smart TV</td>\n",
       "      <td>55-inch 4K Ultra HD Smart TV with built-in Wi-...</td>\n",
       "      <td>Visionary</td>\n",
       "      <td>Electronics</td>\n",
       "      <td>799.99</td>\n",
       "      <td>USD</td>\n",
       "      <td>[https://example.com/products/1003/main.jpg, h...</td>\n",
       "      <td>[{'variantId': '1003_01', 'screenSize': '55 in...</td>\n",
       "      <td>[{'reviewId': 701, 'userId': 105, 'username': ...</td>\n",
       "      <td>True</td>\n",
       "      <td>30</td>\n",
       "      <td>15.0</td>\n",
       "      <td>123</td>\n",
       "      <td>80</td>\n",
       "      <td>10</td>\n",
       "      <td>4.8</td>\n",
       "      <td>250</td>\n",
       "    </tr>\n",
       "    <tr>\n",
       "      <th>3</th>\n",
       "      <td>1004</td>\n",
       "      <td>Bluetooth Speaker</td>\n",
       "      <td>Portable Bluetooth speaker with 12-hour batter...</td>\n",
       "      <td>AudioX</td>\n",
       "      <td>Electronics</td>\n",
       "      <td>59.99</td>\n",
       "      <td>USD</td>\n",
       "      <td>[https://example.com/products/1004/main.jpg, h...</td>\n",
       "      <td>[{'variantId': '1004_01', 'color': 'Red', 'pri...</td>\n",
       "      <td>[{'reviewId': 801, 'userId': 107, 'username': ...</td>\n",
       "      <td>True</td>\n",
       "      <td>100</td>\n",
       "      <td>0.3</td>\n",
       "      <td>15</td>\n",
       "      <td>8</td>\n",
       "      <td>5</td>\n",
       "      <td>4.6</td>\n",
       "      <td>150</td>\n",
       "    </tr>\n",
       "    <tr>\n",
       "      <th>4</th>\n",
       "      <td>1005</td>\n",
       "      <td>Winter Jacket</td>\n",
       "      <td>Men's water-resistant winter jacket with a fur...</td>\n",
       "      <td>ColdTech</td>\n",
       "      <td>Clothing</td>\n",
       "      <td>129.99</td>\n",
       "      <td>USD</td>\n",
       "      <td>[https://example.com/products/1005/main.jpg, h...</td>\n",
       "      <td>[{'variantId': '1005_01', 'size': 'M', 'color'...</td>\n",
       "      <td>[{'reviewId': 901, 'userId': 109, 'username': ...</td>\n",
       "      <td>True</td>\n",
       "      <td>80</td>\n",
       "      <td>1.5</td>\n",
       "      <td>60</td>\n",
       "      <td>85</td>\n",
       "      <td>5</td>\n",
       "      <td>4.5</td>\n",
       "      <td>60</td>\n",
       "    </tr>\n",
       "  </tbody>\n",
       "</table>\n",
       "</div>"
      ],
      "text/plain": [
       "   productId           productName  \\\n",
       "0       1001   Wireless Headphones   \n",
       "1       1002       Smartphone Case   \n",
       "2       1003  4K Ultra HD Smart TV   \n",
       "3       1004     Bluetooth Speaker   \n",
       "4       1005         Winter Jacket   \n",
       "\n",
       "                                         description      brand     category  \\\n",
       "0  Noise-cancelling wireless headphones with Blue...   SoundPro  Electronics   \n",
       "1  Durable and shockproof case for smartphones, a...   CaseMate  Accessories   \n",
       "2  55-inch 4K Ultra HD Smart TV with built-in Wi-...  Visionary  Electronics   \n",
       "3  Portable Bluetooth speaker with 12-hour batter...     AudioX  Electronics   \n",
       "4  Men's water-resistant winter jacket with a fur...   ColdTech     Clothing   \n",
       "\n",
       "    price currency                                             images  \\\n",
       "0  199.99      USD  [https://example.com/products/1001/main.jpg, h...   \n",
       "1   29.99      USD  [https://example.com/products/1002/main.jpg, h...   \n",
       "2  799.99      USD  [https://example.com/products/1003/main.jpg, h...   \n",
       "3   59.99      USD  [https://example.com/products/1004/main.jpg, h...   \n",
       "4  129.99      USD  [https://example.com/products/1005/main.jpg, h...   \n",
       "\n",
       "                                            variants  \\\n",
       "0  [{'variantId': '1001_01', 'color': 'Black', 'p...   \n",
       "1  [{'variantId': '1002_01', 'color': 'Black', 'p...   \n",
       "2  [{'variantId': '1003_01', 'screenSize': '55 in...   \n",
       "3  [{'variantId': '1004_01', 'color': 'Red', 'pri...   \n",
       "4  [{'variantId': '1005_01', 'size': 'M', 'color'...   \n",
       "\n",
       "                                             reviews  stock.available  \\\n",
       "0  [{'reviewId': 501, 'userId': 101, 'username': ...             True   \n",
       "1  [{'reviewId': 601, 'userId': 103, 'username': ...             True   \n",
       "2  [{'reviewId': 701, 'userId': 105, 'username': ...             True   \n",
       "3  [{'reviewId': 801, 'userId': 107, 'username': ...             True   \n",
       "4  [{'reviewId': 901, 'userId': 109, 'username': ...             True   \n",
       "\n",
       "   stock.quantity  dimensions.weight  dimensions.width  dimensions.height  \\\n",
       "0              50                0.5                18                 20   \n",
       "1             200                0.2                 8                 15   \n",
       "2              30               15.0               123                 80   \n",
       "3             100                0.3                15                  8   \n",
       "4              80                1.5                60                 85   \n",
       "\n",
       "   dimensions.depth  ratings.averageRating  ratings.numberOfReviews  \n",
       "0                 8                    4.7                      120  \n",
       "1                 1                    4.4                       80  \n",
       "2                10                    4.8                      250  \n",
       "3                 5                    4.6                      150  \n",
       "4                 5                    4.5                       60  "
      ]
     },
     "execution_count": 91,
     "metadata": {},
     "output_type": "execute_result"
    }
   ],
   "source": [
    "df1"
   ]
  },
  {
   "cell_type": "code",
   "execution_count": 99,
   "id": "ef563224-3750-487a-a192-71e8dbe17294",
   "metadata": {},
   "outputs": [
    {
     "name": "stdout",
     "output_type": "stream",
     "text": [
      "['https://example.com/products/1001/main.jpg', 'https://example.com/products/1001/side.jpg']\n",
      "['https://example.com/products/1002/main.jpg', 'https://example.com/products/1002/back.jpg']\n",
      "['https://example.com/products/1003/main.jpg', 'https://example.com/products/1003/side.jpg']\n",
      "['https://example.com/products/1004/main.jpg', 'https://example.com/products/1004/side.jpg']\n",
      "['https://example.com/products/1005/main.jpg', 'https://example.com/products/1005/back.jpg']\n"
     ]
    }
   ],
   "source": [
    "img_col = df1['images']\n",
    "num_img = []\n",
    "for i in img_col:\n",
    "    print(i)\n",
    "    num_img.append(len(i))\n",
    "df1['num_img'] = num_img\n",
    "    "
   ]
  },
  {
   "cell_type": "code",
   "execution_count": 106,
   "id": "67b6a3e3-a0f7-468b-9521-fb0ab124efaa",
   "metadata": {},
   "outputs": [],
   "source": [
    "df1['num_variants'] = df1['variants'].apply(lambda x:len(x) if isinstance(x,list) else 0)"
   ]
  },
  {
   "cell_type": "code",
   "execution_count": 107,
   "id": "aa5dca9f-f3aa-4a2e-8639-17936cbae1fd",
   "metadata": {},
   "outputs": [],
   "source": [
    "df1['num_reviews'] =  df1['reviews'].apply(lambda x:len(x) if isinstance(x,list) else 0)"
   ]
  },
  {
   "cell_type": "code",
   "execution_count": 108,
   "id": "2fd004a5-d167-4825-921e-c546668b0464",
   "metadata": {},
   "outputs": [
    {
     "data": {
      "text/html": [
       "<div>\n",
       "<style scoped>\n",
       "    .dataframe tbody tr th:only-of-type {\n",
       "        vertical-align: middle;\n",
       "    }\n",
       "\n",
       "    .dataframe tbody tr th {\n",
       "        vertical-align: top;\n",
       "    }\n",
       "\n",
       "    .dataframe thead th {\n",
       "        text-align: right;\n",
       "    }\n",
       "</style>\n",
       "<table border=\"1\" class=\"dataframe\">\n",
       "  <thead>\n",
       "    <tr style=\"text-align: right;\">\n",
       "      <th></th>\n",
       "      <th>productId</th>\n",
       "      <th>productName</th>\n",
       "      <th>description</th>\n",
       "      <th>brand</th>\n",
       "      <th>category</th>\n",
       "      <th>price</th>\n",
       "      <th>currency</th>\n",
       "      <th>images</th>\n",
       "      <th>variants</th>\n",
       "      <th>reviews</th>\n",
       "      <th>...</th>\n",
       "      <th>stock.quantity</th>\n",
       "      <th>dimensions.weight</th>\n",
       "      <th>dimensions.width</th>\n",
       "      <th>dimensions.height</th>\n",
       "      <th>dimensions.depth</th>\n",
       "      <th>ratings.averageRating</th>\n",
       "      <th>ratings.numberOfReviews</th>\n",
       "      <th>num_img</th>\n",
       "      <th>num_variants</th>\n",
       "      <th>num_reviews</th>\n",
       "    </tr>\n",
       "  </thead>\n",
       "  <tbody>\n",
       "    <tr>\n",
       "      <th>0</th>\n",
       "      <td>1001</td>\n",
       "      <td>Wireless Headphones</td>\n",
       "      <td>Noise-cancelling wireless headphones with Blue...</td>\n",
       "      <td>SoundPro</td>\n",
       "      <td>Electronics</td>\n",
       "      <td>199.99</td>\n",
       "      <td>USD</td>\n",
       "      <td>[https://example.com/products/1001/main.jpg, h...</td>\n",
       "      <td>[{'variantId': '1001_01', 'color': 'Black', 'p...</td>\n",
       "      <td>[{'reviewId': 501, 'userId': 101, 'username': ...</td>\n",
       "      <td>...</td>\n",
       "      <td>50</td>\n",
       "      <td>0.5</td>\n",
       "      <td>18</td>\n",
       "      <td>20</td>\n",
       "      <td>8</td>\n",
       "      <td>4.7</td>\n",
       "      <td>120</td>\n",
       "      <td>2</td>\n",
       "      <td>2</td>\n",
       "      <td>2</td>\n",
       "    </tr>\n",
       "    <tr>\n",
       "      <th>1</th>\n",
       "      <td>1002</td>\n",
       "      <td>Smartphone Case</td>\n",
       "      <td>Durable and shockproof case for smartphones, a...</td>\n",
       "      <td>CaseMate</td>\n",
       "      <td>Accessories</td>\n",
       "      <td>29.99</td>\n",
       "      <td>USD</td>\n",
       "      <td>[https://example.com/products/1002/main.jpg, h...</td>\n",
       "      <td>[{'variantId': '1002_01', 'color': 'Black', 'p...</td>\n",
       "      <td>[{'reviewId': 601, 'userId': 103, 'username': ...</td>\n",
       "      <td>...</td>\n",
       "      <td>200</td>\n",
       "      <td>0.2</td>\n",
       "      <td>8</td>\n",
       "      <td>15</td>\n",
       "      <td>1</td>\n",
       "      <td>4.4</td>\n",
       "      <td>80</td>\n",
       "      <td>2</td>\n",
       "      <td>2</td>\n",
       "      <td>2</td>\n",
       "    </tr>\n",
       "    <tr>\n",
       "      <th>2</th>\n",
       "      <td>1003</td>\n",
       "      <td>4K Ultra HD Smart TV</td>\n",
       "      <td>55-inch 4K Ultra HD Smart TV with built-in Wi-...</td>\n",
       "      <td>Visionary</td>\n",
       "      <td>Electronics</td>\n",
       "      <td>799.99</td>\n",
       "      <td>USD</td>\n",
       "      <td>[https://example.com/products/1003/main.jpg, h...</td>\n",
       "      <td>[{'variantId': '1003_01', 'screenSize': '55 in...</td>\n",
       "      <td>[{'reviewId': 701, 'userId': 105, 'username': ...</td>\n",
       "      <td>...</td>\n",
       "      <td>30</td>\n",
       "      <td>15.0</td>\n",
       "      <td>123</td>\n",
       "      <td>80</td>\n",
       "      <td>10</td>\n",
       "      <td>4.8</td>\n",
       "      <td>250</td>\n",
       "      <td>2</td>\n",
       "      <td>1</td>\n",
       "      <td>2</td>\n",
       "    </tr>\n",
       "    <tr>\n",
       "      <th>3</th>\n",
       "      <td>1004</td>\n",
       "      <td>Bluetooth Speaker</td>\n",
       "      <td>Portable Bluetooth speaker with 12-hour batter...</td>\n",
       "      <td>AudioX</td>\n",
       "      <td>Electronics</td>\n",
       "      <td>59.99</td>\n",
       "      <td>USD</td>\n",
       "      <td>[https://example.com/products/1004/main.jpg, h...</td>\n",
       "      <td>[{'variantId': '1004_01', 'color': 'Red', 'pri...</td>\n",
       "      <td>[{'reviewId': 801, 'userId': 107, 'username': ...</td>\n",
       "      <td>...</td>\n",
       "      <td>100</td>\n",
       "      <td>0.3</td>\n",
       "      <td>15</td>\n",
       "      <td>8</td>\n",
       "      <td>5</td>\n",
       "      <td>4.6</td>\n",
       "      <td>150</td>\n",
       "      <td>2</td>\n",
       "      <td>2</td>\n",
       "      <td>2</td>\n",
       "    </tr>\n",
       "    <tr>\n",
       "      <th>4</th>\n",
       "      <td>1005</td>\n",
       "      <td>Winter Jacket</td>\n",
       "      <td>Men's water-resistant winter jacket with a fur...</td>\n",
       "      <td>ColdTech</td>\n",
       "      <td>Clothing</td>\n",
       "      <td>129.99</td>\n",
       "      <td>USD</td>\n",
       "      <td>[https://example.com/products/1005/main.jpg, h...</td>\n",
       "      <td>[{'variantId': '1005_01', 'size': 'M', 'color'...</td>\n",
       "      <td>[{'reviewId': 901, 'userId': 109, 'username': ...</td>\n",
       "      <td>...</td>\n",
       "      <td>80</td>\n",
       "      <td>1.5</td>\n",
       "      <td>60</td>\n",
       "      <td>85</td>\n",
       "      <td>5</td>\n",
       "      <td>4.5</td>\n",
       "      <td>60</td>\n",
       "      <td>2</td>\n",
       "      <td>2</td>\n",
       "      <td>2</td>\n",
       "    </tr>\n",
       "  </tbody>\n",
       "</table>\n",
       "<p>5 rows × 21 columns</p>\n",
       "</div>"
      ],
      "text/plain": [
       "   productId           productName  \\\n",
       "0       1001   Wireless Headphones   \n",
       "1       1002       Smartphone Case   \n",
       "2       1003  4K Ultra HD Smart TV   \n",
       "3       1004     Bluetooth Speaker   \n",
       "4       1005         Winter Jacket   \n",
       "\n",
       "                                         description      brand     category  \\\n",
       "0  Noise-cancelling wireless headphones with Blue...   SoundPro  Electronics   \n",
       "1  Durable and shockproof case for smartphones, a...   CaseMate  Accessories   \n",
       "2  55-inch 4K Ultra HD Smart TV with built-in Wi-...  Visionary  Electronics   \n",
       "3  Portable Bluetooth speaker with 12-hour batter...     AudioX  Electronics   \n",
       "4  Men's water-resistant winter jacket with a fur...   ColdTech     Clothing   \n",
       "\n",
       "    price currency                                             images  \\\n",
       "0  199.99      USD  [https://example.com/products/1001/main.jpg, h...   \n",
       "1   29.99      USD  [https://example.com/products/1002/main.jpg, h...   \n",
       "2  799.99      USD  [https://example.com/products/1003/main.jpg, h...   \n",
       "3   59.99      USD  [https://example.com/products/1004/main.jpg, h...   \n",
       "4  129.99      USD  [https://example.com/products/1005/main.jpg, h...   \n",
       "\n",
       "                                            variants  \\\n",
       "0  [{'variantId': '1001_01', 'color': 'Black', 'p...   \n",
       "1  [{'variantId': '1002_01', 'color': 'Black', 'p...   \n",
       "2  [{'variantId': '1003_01', 'screenSize': '55 in...   \n",
       "3  [{'variantId': '1004_01', 'color': 'Red', 'pri...   \n",
       "4  [{'variantId': '1005_01', 'size': 'M', 'color'...   \n",
       "\n",
       "                                             reviews  ...  stock.quantity  \\\n",
       "0  [{'reviewId': 501, 'userId': 101, 'username': ...  ...              50   \n",
       "1  [{'reviewId': 601, 'userId': 103, 'username': ...  ...             200   \n",
       "2  [{'reviewId': 701, 'userId': 105, 'username': ...  ...              30   \n",
       "3  [{'reviewId': 801, 'userId': 107, 'username': ...  ...             100   \n",
       "4  [{'reviewId': 901, 'userId': 109, 'username': ...  ...              80   \n",
       "\n",
       "   dimensions.weight  dimensions.width  dimensions.height  dimensions.depth  \\\n",
       "0                0.5                18                 20                 8   \n",
       "1                0.2                 8                 15                 1   \n",
       "2               15.0               123                 80                10   \n",
       "3                0.3                15                  8                 5   \n",
       "4                1.5                60                 85                 5   \n",
       "\n",
       "   ratings.averageRating  ratings.numberOfReviews  num_img  num_variants  \\\n",
       "0                    4.7                      120        2             2   \n",
       "1                    4.4                       80        2             2   \n",
       "2                    4.8                      250        2             1   \n",
       "3                    4.6                      150        2             2   \n",
       "4                    4.5                       60        2             2   \n",
       "\n",
       "   num_reviews  \n",
       "0            2  \n",
       "1            2  \n",
       "2            2  \n",
       "3            2  \n",
       "4            2  \n",
       "\n",
       "[5 rows x 21 columns]"
      ]
     },
     "execution_count": 108,
     "metadata": {},
     "output_type": "execute_result"
    }
   ],
   "source": [
    "df1"
   ]
  },
  {
   "cell_type": "code",
   "execution_count": null,
   "id": "7af31224-7c49-4110-9e86-bf236e45f3c2",
   "metadata": {},
   "outputs": [],
   "source": []
  },
  {
   "cell_type": "markdown",
   "id": "7a9ad319-ef66-4181-98c3-7ef0d89c9752",
   "metadata": {},
   "source": [
    "## XML file"
   ]
  },
  {
   "cell_type": "code",
   "execution_count": 109,
   "id": "958c64a2-f6c9-4c3e-9d0c-22d50f747b7b",
   "metadata": {},
   "outputs": [],
   "source": [
    "import xml"
   ]
  },
  {
   "cell_type": "code",
   "execution_count": 122,
   "id": "1889b175-f32a-4d3c-9b60-6f4a379fd0f6",
   "metadata": {},
   "outputs": [],
   "source": [
    "df = pd.read_xml('D:/Advanced_training/Advanced-training-Python-AIML/Day-8/basic_xml.xml')"
   ]
  },
  {
   "cell_type": "code",
   "execution_count": 123,
   "id": "9b51908c-6953-4a4d-8612-dab30ab4bd07",
   "metadata": {},
   "outputs": [
    {
     "data": {
      "text/html": [
       "<div>\n",
       "<style scoped>\n",
       "    .dataframe tbody tr th:only-of-type {\n",
       "        vertical-align: middle;\n",
       "    }\n",
       "\n",
       "    .dataframe tbody tr th {\n",
       "        vertical-align: top;\n",
       "    }\n",
       "\n",
       "    .dataframe thead th {\n",
       "        text-align: right;\n",
       "    }\n",
       "</style>\n",
       "<table border=\"1\" class=\"dataframe\">\n",
       "  <thead>\n",
       "    <tr style=\"text-align: right;\">\n",
       "      <th></th>\n",
       "      <th>name</th>\n",
       "      <th>age</th>\n",
       "      <th>city</th>\n",
       "    </tr>\n",
       "  </thead>\n",
       "  <tbody>\n",
       "    <tr>\n",
       "      <th>0</th>\n",
       "      <td>John</td>\n",
       "      <td>30</td>\n",
       "      <td>New York</td>\n",
       "    </tr>\n",
       "    <tr>\n",
       "      <th>1</th>\n",
       "      <td>Anna</td>\n",
       "      <td>25</td>\n",
       "      <td>Paris</td>\n",
       "    </tr>\n",
       "  </tbody>\n",
       "</table>\n",
       "</div>"
      ],
      "text/plain": [
       "   name  age      city\n",
       "0  John   30  New York\n",
       "1  Anna   25     Paris"
      ]
     },
     "execution_count": 123,
     "metadata": {},
     "output_type": "execute_result"
    }
   ],
   "source": [
    "df"
   ]
  },
  {
   "cell_type": "code",
   "execution_count": 124,
   "id": "6ecd3fd4-2853-4a72-b5c2-ba7585c1e3b7",
   "metadata": {},
   "outputs": [
    {
     "data": {
      "text/plain": [
       "'D:\\\\Advanced_training\\\\Advanced-training-Python-AIML\\\\Day-8\\\\complex_xml_structures.xml'"
      ]
     },
     "execution_count": 124,
     "metadata": {},
     "output_type": "execute_result"
    }
   ],
   "source": [
    "\"D:\\Advanced_training\\Advanced-training-Python-AIML\\Day-8\\complex_xml_structures.xml\""
   ]
  },
  {
   "cell_type": "code",
   "execution_count": 126,
   "id": "355dea61-90bf-4ea1-bc13-da6b1373f605",
   "metadata": {},
   "outputs": [],
   "source": [
    "df1 = pd.read_xml('D:/Advanced_training/Advanced-training-Python-AIML/Day-8/complex_xml_structures.xml',xpath='.//person')"
   ]
  },
  {
   "cell_type": "code",
   "execution_count": 127,
   "id": "4a6dc826-0c12-4f33-aea6-38aa800d620e",
   "metadata": {},
   "outputs": [
    {
     "data": {
      "text/html": [
       "<div>\n",
       "<style scoped>\n",
       "    .dataframe tbody tr th:only-of-type {\n",
       "        vertical-align: middle;\n",
       "    }\n",
       "\n",
       "    .dataframe tbody tr th {\n",
       "        vertical-align: top;\n",
       "    }\n",
       "\n",
       "    .dataframe thead th {\n",
       "        text-align: right;\n",
       "    }\n",
       "</style>\n",
       "<table border=\"1\" class=\"dataframe\">\n",
       "  <thead>\n",
       "    <tr style=\"text-align: right;\">\n",
       "      <th></th>\n",
       "      <th>name</th>\n",
       "      <th>age</th>\n",
       "    </tr>\n",
       "  </thead>\n",
       "  <tbody>\n",
       "    <tr>\n",
       "      <th>0</th>\n",
       "      <td>John</td>\n",
       "      <td>30</td>\n",
       "    </tr>\n",
       "    <tr>\n",
       "      <th>1</th>\n",
       "      <td>Anna</td>\n",
       "      <td>25</td>\n",
       "    </tr>\n",
       "  </tbody>\n",
       "</table>\n",
       "</div>"
      ],
      "text/plain": [
       "   name  age\n",
       "0  John   30\n",
       "1  Anna   25"
      ]
     },
     "execution_count": 127,
     "metadata": {},
     "output_type": "execute_result"
    }
   ],
   "source": [
    "df1"
   ]
  },
  {
   "cell_type": "code",
   "execution_count": 140,
   "id": "89278961-8793-4212-be1d-422c730b73c6",
   "metadata": {},
   "outputs": [],
   "source": [
    "namespaces = {'ns':'http://www.example.com'}\n",
    "dataframe = pd.read_xml('D:/Advanced_training/Advanced-training-Python-AIML/Day-8/xml_namespace.xml',namespaces=namespaces,xpath='.//ns:city')"
   ]
  },
  {
   "cell_type": "code",
   "execution_count": 141,
   "id": "00e42ed7-af2f-460f-88e4-78b43ea674f9",
   "metadata": {},
   "outputs": [
    {
     "data": {
      "text/html": [
       "<div>\n",
       "<style scoped>\n",
       "    .dataframe tbody tr th:only-of-type {\n",
       "        vertical-align: middle;\n",
       "    }\n",
       "\n",
       "    .dataframe tbody tr th {\n",
       "        vertical-align: top;\n",
       "    }\n",
       "\n",
       "    .dataframe thead th {\n",
       "        text-align: right;\n",
       "    }\n",
       "</style>\n",
       "<table border=\"1\" class=\"dataframe\">\n",
       "  <thead>\n",
       "    <tr style=\"text-align: right;\">\n",
       "      <th></th>\n",
       "      <th>name</th>\n",
       "      <th>person</th>\n",
       "    </tr>\n",
       "  </thead>\n",
       "  <tbody>\n",
       "    <tr>\n",
       "      <th>0</th>\n",
       "      <td>New York</td>\n",
       "      <td>NaN</td>\n",
       "    </tr>\n",
       "  </tbody>\n",
       "</table>\n",
       "</div>"
      ],
      "text/plain": [
       "       name  person\n",
       "0  New York     NaN"
      ]
     },
     "execution_count": 141,
     "metadata": {},
     "output_type": "execute_result"
    }
   ],
   "source": [
    "dataframe"
   ]
  },
  {
   "cell_type": "code",
   "execution_count": 150,
   "id": "fd12b68e-72f6-4596-95da-f6ac7d82901f",
   "metadata": {},
   "outputs": [
    {
     "data": {
      "text/html": [
       "<div>\n",
       "<style scoped>\n",
       "    .dataframe tbody tr th:only-of-type {\n",
       "        vertical-align: middle;\n",
       "    }\n",
       "\n",
       "    .dataframe tbody tr th {\n",
       "        vertical-align: top;\n",
       "    }\n",
       "\n",
       "    .dataframe thead th {\n",
       "        text-align: right;\n",
       "    }\n",
       "</style>\n",
       "<table border=\"1\" class=\"dataframe\">\n",
       "  <thead>\n",
       "    <tr style=\"text-align: right;\">\n",
       "      <th></th>\n",
       "      <th>last_names</th>\n",
       "      <th>first_names</th>\n",
       "    </tr>\n",
       "  </thead>\n",
       "  <tbody>\n",
       "  </tbody>\n",
       "</table>\n",
       "</div>"
      ],
      "text/plain": [
       "Empty DataFrame\n",
       "Columns: [last_names, first_names]\n",
       "Index: []"
      ]
     },
     "execution_count": 150,
     "metadata": {},
     "output_type": "execute_result"
    }
   ],
   "source": [
    "df = pd.DataFrame({\n",
    "'last_names' : ['Connor','Connor','Reese','Bonnot'],\n",
    "'first_names' : ['Sarah','john','kyle','joe'],\n",
    "})\n",
    "df[df.last_names.str.match('onnor')]"
   ]
  },
  {
   "cell_type": "code",
   "execution_count": 151,
   "id": "8ce86c0d-caae-4967-84de-1ada54e314d3",
   "metadata": {},
   "outputs": [
    {
     "data": {
      "text/html": [
       "<div>\n",
       "<style scoped>\n",
       "    .dataframe tbody tr th:only-of-type {\n",
       "        vertical-align: middle;\n",
       "    }\n",
       "\n",
       "    .dataframe tbody tr th {\n",
       "        vertical-align: top;\n",
       "    }\n",
       "\n",
       "    .dataframe thead th {\n",
       "        text-align: right;\n",
       "    }\n",
       "</style>\n",
       "<table border=\"1\" class=\"dataframe\">\n",
       "  <thead>\n",
       "    <tr style=\"text-align: right;\">\n",
       "      <th></th>\n",
       "      <th>last_names</th>\n",
       "      <th>first_names</th>\n",
       "    </tr>\n",
       "  </thead>\n",
       "  <tbody>\n",
       "    <tr>\n",
       "      <th>0</th>\n",
       "      <td>Connor</td>\n",
       "      <td>Sarah</td>\n",
       "    </tr>\n",
       "    <tr>\n",
       "      <th>1</th>\n",
       "      <td>Connor</td>\n",
       "      <td>john</td>\n",
       "    </tr>\n",
       "  </tbody>\n",
       "</table>\n",
       "</div>"
      ],
      "text/plain": [
       "  last_names first_names\n",
       "0     Connor       Sarah\n",
       "1     Connor        john"
      ]
     },
     "execution_count": 151,
     "metadata": {},
     "output_type": "execute_result"
    }
   ],
   "source": [
    "foo = 'Connor'\n",
    "df.query('last_names==@foo')"
   ]
  },
  {
   "cell_type": "code",
   "execution_count": 152,
   "id": "196180bf-69ce-4df0-a213-e7d88443c090",
   "metadata": {},
   "outputs": [
    {
     "data": {
      "text/html": [
       "<div>\n",
       "<style scoped>\n",
       "    .dataframe tbody tr th:only-of-type {\n",
       "        vertical-align: middle;\n",
       "    }\n",
       "\n",
       "    .dataframe tbody tr th {\n",
       "        vertical-align: top;\n",
       "    }\n",
       "\n",
       "    .dataframe thead th {\n",
       "        text-align: right;\n",
       "    }\n",
       "</style>\n",
       "<table border=\"1\" class=\"dataframe\">\n",
       "  <thead>\n",
       "    <tr style=\"text-align: right;\">\n",
       "      <th></th>\n",
       "      <th>last_names</th>\n",
       "      <th>first_names</th>\n",
       "    </tr>\n",
       "  </thead>\n",
       "  <tbody>\n",
       "    <tr>\n",
       "      <th>1</th>\n",
       "      <td>Connor</td>\n",
       "      <td>john</td>\n",
       "    </tr>\n",
       "  </tbody>\n",
       "</table>\n",
       "</div>"
      ],
      "text/plain": [
       "  last_names first_names\n",
       "1     Connor        john"
      ]
     },
     "execution_count": 152,
     "metadata": {},
     "output_type": "execute_result"
    }
   ],
   "source": [
    "column_name = 'first_names'\n",
    "df.query(f\"{column_name}=='john'\")"
   ]
  },
  {
   "cell_type": "code",
   "execution_count": 158,
   "id": "8212effc-d0a3-413b-95b3-b48bd7fa237c",
   "metadata": {},
   "outputs": [
    {
     "data": {
      "text/html": [
       "<div>\n",
       "<style scoped>\n",
       "    .dataframe tbody tr th:only-of-type {\n",
       "        vertical-align: middle;\n",
       "    }\n",
       "\n",
       "    .dataframe tbody tr th {\n",
       "        vertical-align: top;\n",
       "    }\n",
       "\n",
       "    .dataframe thead th {\n",
       "        text-align: right;\n",
       "    }\n",
       "</style>\n",
       "<table border=\"1\" class=\"dataframe\">\n",
       "  <thead>\n",
       "    <tr style=\"text-align: right;\">\n",
       "      <th></th>\n",
       "      <th>Calendar Year</th>\n",
       "      <th>Animal</th>\n",
       "    </tr>\n",
       "  </thead>\n",
       "  <tbody>\n",
       "    <tr>\n",
       "      <th>0</th>\n",
       "      <td>2016</td>\n",
       "      <td>Giant panda</td>\n",
       "    </tr>\n",
       "    <tr>\n",
       "      <th>1</th>\n",
       "      <td>2015</td>\n",
       "      <td>Chicken</td>\n",
       "    </tr>\n",
       "    <tr>\n",
       "      <th>2</th>\n",
       "      <td>2014</td>\n",
       "      <td>Pig</td>\n",
       "    </tr>\n",
       "    <tr>\n",
       "      <th>3</th>\n",
       "      <td>2013</td>\n",
       "      <td>Turkey</td>\n",
       "    </tr>\n",
       "    <tr>\n",
       "      <th>4</th>\n",
       "      <td>2012</td>\n",
       "      <td>Dog</td>\n",
       "    </tr>\n",
       "  </tbody>\n",
       "</table>\n",
       "</div>"
      ],
      "text/plain": [
       "   Calendar Year       Animal\n",
       "0           2016  Giant panda\n",
       "1           2015      Chicken\n",
       "2           2014          Pig\n",
       "3           2013       Turkey\n",
       "4           2012          Dog"
      ]
     },
     "execution_count": 158,
     "metadata": {},
     "output_type": "execute_result"
    }
   ],
   "source": [
    "df = pd.DataFrame({\n",
    "    'Year' : [2016,2015,2014,2013,2012],\n",
    "    'Top Animal' : ['Giant panda','Chicken','Pig','Turkey','Dog']\n",
    "})\n",
    "\n",
    "df.rename(columns={'Year': 'Calendar Year', 'Top Animal': 'Animal'})"
   ]
  },
  {
   "cell_type": "code",
   "execution_count": 159,
   "id": "77a03f91-6586-46bc-a0e8-28a9a2cea8a1",
   "metadata": {},
   "outputs": [
    {
     "data": {
      "text/html": [
       "<div>\n",
       "<style scoped>\n",
       "    .dataframe tbody tr th:only-of-type {\n",
       "        vertical-align: middle;\n",
       "    }\n",
       "\n",
       "    .dataframe tbody tr th {\n",
       "        vertical-align: top;\n",
       "    }\n",
       "\n",
       "    .dataframe thead th {\n",
       "        text-align: right;\n",
       "    }\n",
       "</style>\n",
       "<table border=\"1\" class=\"dataframe\">\n",
       "  <thead>\n",
       "    <tr style=\"text-align: right;\">\n",
       "      <th></th>\n",
       "      <th>time</th>\n",
       "      <th>letter</th>\n",
       "    </tr>\n",
       "  </thead>\n",
       "  <tbody>\n",
       "    <tr>\n",
       "      <th>1</th>\n",
       "      <td>2022-09-14 00:52:30-07:00</td>\n",
       "      <td>B</td>\n",
       "    </tr>\n",
       "    <tr>\n",
       "      <th>2</th>\n",
       "      <td>2022-09-14 01:52:30-07:00</td>\n",
       "      <td>C</td>\n",
       "    </tr>\n",
       "  </tbody>\n",
       "</table>\n",
       "</div>"
      ],
      "text/plain": [
       "                       time letter\n",
       "1 2022-09-14 00:52:30-07:00      B\n",
       "2 2022-09-14 01:52:30-07:00      C"
      ]
     },
     "execution_count": 159,
     "metadata": {},
     "output_type": "execute_result"
    }
   ],
   "source": [
    "import pandas as pd\n",
    "df = pd.DataFrame({\n",
    "  'time': ['2022-09-14 00:52:00-07:00', '2022-09-14 00:52:30-07:00',\n",
    "           '2022-09-14 01:52:30-07:00'],\n",
    "  'letter': ['A', 'B', 'C'],\n",
    "})\n",
    "df['time'] = pd.to_datetime(df.time)\n",
    " \n",
    "df.query('time >= \"2022-09-14 00:52:30-07:00\"')"
   ]
  },
  {
   "cell_type": "code",
   "execution_count": 167,
   "id": "4c888cec-7362-474a-9b60-d62fdc6243fb",
   "metadata": {},
   "outputs": [
    {
     "data": {
      "text/html": [
       "<div>\n",
       "<style scoped>\n",
       "    .dataframe tbody tr th:only-of-type {\n",
       "        vertical-align: middle;\n",
       "    }\n",
       "\n",
       "    .dataframe tbody tr th {\n",
       "        vertical-align: top;\n",
       "    }\n",
       "\n",
       "    .dataframe thead th {\n",
       "        text-align: right;\n",
       "    }\n",
       "</style>\n",
       "<table border=\"1\" class=\"dataframe\">\n",
       "  <thead>\n",
       "    <tr style=\"text-align: right;\">\n",
       "      <th></th>\n",
       "      <th>time</th>\n",
       "      <th>letter</th>\n",
       "    </tr>\n",
       "  </thead>\n",
       "  <tbody>\n",
       "    <tr>\n",
       "      <th>0</th>\n",
       "      <td>2022-09-14 00:52:00-07:00</td>\n",
       "      <td>A</td>\n",
       "    </tr>\n",
       "    <tr>\n",
       "      <th>1</th>\n",
       "      <td>2022-09-14 00:52:30-07:00</td>\n",
       "      <td>B</td>\n",
       "    </tr>\n",
       "  </tbody>\n",
       "</table>\n",
       "</div>"
      ],
      "text/plain": [
       "                       time letter\n",
       "0 2022-09-14 00:52:00-07:00      A\n",
       "1 2022-09-14 00:52:30-07:00      B"
      ]
     },
     "execution_count": 167,
     "metadata": {},
     "output_type": "execute_result"
    }
   ],
   "source": [
    "begin_ts = '2022-09-14 00:52:00-07:00'\n",
    "end_ts = '2022-09-14 00:54:00-07:00'\n",
    "\n",
    "df.query('@begin_ts<=time<@end_ts')"
   ]
  },
  {
   "cell_type": "code",
   "execution_count": 168,
   "id": "ed738955-6ef2-4098-820e-83cc4c58a421",
   "metadata": {},
   "outputs": [
    {
     "data": {
      "text/html": [
       "<div>\n",
       "<style scoped>\n",
       "    .dataframe tbody tr th:only-of-type {\n",
       "        vertical-align: middle;\n",
       "    }\n",
       "\n",
       "    .dataframe tbody tr th {\n",
       "        vertical-align: top;\n",
       "    }\n",
       "\n",
       "    .dataframe thead th {\n",
       "        text-align: right;\n",
       "    }\n",
       "</style>\n",
       "<table border=\"1\" class=\"dataframe\">\n",
       "  <thead>\n",
       "    <tr style=\"text-align: right;\">\n",
       "      <th></th>\n",
       "      <th>letter</th>\n",
       "    </tr>\n",
       "    <tr>\n",
       "      <th>time</th>\n",
       "      <th></th>\n",
       "    </tr>\n",
       "  </thead>\n",
       "  <tbody>\n",
       "    <tr>\n",
       "      <th>2022-09-14 00:52:00-07:00</th>\n",
       "      <td>A</td>\n",
       "    </tr>\n",
       "    <tr>\n",
       "      <th>2022-09-14 00:52:30-07:00</th>\n",
       "      <td>B</td>\n",
       "    </tr>\n",
       "  </tbody>\n",
       "</table>\n",
       "</div>"
      ],
      "text/plain": [
       "                          letter\n",
       "time                            \n",
       "2022-09-14 00:52:00-07:00      A\n",
       "2022-09-14 00:52:30-07:00      B"
      ]
     },
     "execution_count": 168,
     "metadata": {},
     "output_type": "execute_result"
    }
   ],
   "source": [
    "df.set_index('time',inplace=True)\n",
    "df.loc['2022-09-14':'2022-09-14 00:53']"
   ]
  },
  {
   "cell_type": "code",
   "execution_count": 172,
   "id": "21f85fa2-edd6-4ffb-b8da-5bc8c9d963a0",
   "metadata": {},
   "outputs": [
    {
     "data": {
      "text/html": [
       "<div>\n",
       "<style scoped>\n",
       "    .dataframe tbody tr th:only-of-type {\n",
       "        vertical-align: middle;\n",
       "    }\n",
       "\n",
       "    .dataframe tbody tr th {\n",
       "        vertical-align: top;\n",
       "    }\n",
       "\n",
       "    .dataframe thead th {\n",
       "        text-align: right;\n",
       "    }\n",
       "</style>\n",
       "<table border=\"1\" class=\"dataframe\">\n",
       "  <thead>\n",
       "    <tr style=\"text-align: right;\">\n",
       "      <th></th>\n",
       "      <th>letter</th>\n",
       "    </tr>\n",
       "    <tr>\n",
       "      <th>time</th>\n",
       "      <th></th>\n",
       "    </tr>\n",
       "  </thead>\n",
       "  <tbody>\n",
       "    <tr>\n",
       "      <th>2022-09-14 00:52:00-07:00</th>\n",
       "      <td>A</td>\n",
       "    </tr>\n",
       "    <tr>\n",
       "      <th>2022-09-14 00:52:30-07:00</th>\n",
       "      <td>B</td>\n",
       "    </tr>\n",
       "  </tbody>\n",
       "</table>\n",
       "</div>"
      ],
      "text/plain": [
       "                          letter\n",
       "time                            \n",
       "2022-09-14 00:52:00-07:00      A\n",
       "2022-09-14 00:52:30-07:00      B"
      ]
     },
     "execution_count": 172,
     "metadata": {},
     "output_type": "execute_result"
    }
   ],
   "source": [
    "def rows_in_time_range(df, time_column, start_ts_str, timedelta_str):\n",
    "    start_ts = pd.Timestamp(start_ts_str).tz_localize('US/Pacific')\n",
    "    end_ts = start_ts + pd.to_timedelta(timedelta_str)\n",
    "    return df.query(\"@start_ts <= {0} < @end_ts\".format(time_column))\n",
    "\n",
    "rows_in_time_range(df, 'time', '2022-09-14 00:00', '52 minutes 31 seconds')"
   ]
  },
  {
   "cell_type": "code",
   "execution_count": 178,
   "id": "d913bce0-6153-4c14-85a4-540491da1986",
   "metadata": {},
   "outputs": [
    {
     "name": "stdout",
     "output_type": "stream",
     "text": [
      "         date letter                                          dict\n",
      "0  2022-09-14      A         {'fruit': 'apple', 'weather': 'aces'}\n",
      "1  2022-09-15      B         {'fruit': 'banana', 'weather': 'bad'}\n",
      "2  2022-09-16      C  {'fruit': 'cantaloupe', 'weather': 'cloudy'}\n"
     ]
    },
    {
     "data": {
      "text/html": [
       "<div>\n",
       "<style scoped>\n",
       "    .dataframe tbody tr th:only-of-type {\n",
       "        vertical-align: middle;\n",
       "    }\n",
       "\n",
       "    .dataframe tbody tr th {\n",
       "        vertical-align: top;\n",
       "    }\n",
       "\n",
       "    .dataframe thead th {\n",
       "        text-align: right;\n",
       "    }\n",
       "</style>\n",
       "<table border=\"1\" class=\"dataframe\">\n",
       "  <thead>\n",
       "    <tr style=\"text-align: right;\">\n",
       "      <th></th>\n",
       "      <th>date</th>\n",
       "      <th>letter</th>\n",
       "      <th>dict</th>\n",
       "    </tr>\n",
       "  </thead>\n",
       "  <tbody>\n",
       "    <tr>\n",
       "      <th>0</th>\n",
       "      <td>2022-09-14</td>\n",
       "      <td>A</td>\n",
       "      <td>{'fruit': 'apple', 'weather': 'aces'}</td>\n",
       "    </tr>\n",
       "    <tr>\n",
       "      <th>1</th>\n",
       "      <td>2022-09-15</td>\n",
       "      <td>B</td>\n",
       "      <td>{'fruit': 'banana', 'weather': 'bad'}</td>\n",
       "    </tr>\n",
       "    <tr>\n",
       "      <th>2</th>\n",
       "      <td>2022-09-16</td>\n",
       "      <td>C</td>\n",
       "      <td>{'fruit': 'cantaloupe', 'weather': 'cloudy'}</td>\n",
       "    </tr>\n",
       "  </tbody>\n",
       "</table>\n",
       "</div>"
      ],
      "text/plain": [
       "         date letter                                          dict\n",
       "0  2022-09-14      A         {'fruit': 'apple', 'weather': 'aces'}\n",
       "1  2022-09-15      B         {'fruit': 'banana', 'weather': 'bad'}\n",
       "2  2022-09-16      C  {'fruit': 'cantaloupe', 'weather': 'cloudy'}"
      ]
     },
     "execution_count": 178,
     "metadata": {},
     "output_type": "execute_result"
    }
   ],
   "source": [
    "import pandas as pd\n",
    "df = pd.DataFrame({\n",
    "  'date': ['2022-09-14', '2022-09-15', '2022-09-16'],\n",
    "  'letter': ['A', 'B', 'C'],\n",
    "  'dict' : [{ 'fruit': 'apple', 'weather': 'aces'},\n",
    "            { 'fruit': 'banana', 'weather': 'bad'},\n",
    "            { 'fruit': 'cantaloupe', 'weather': 'cloudy'}],\n",
    "})\n",
    "print(df)\n",
    "pd.concat([df.drop(['dict'], axis=1), df['dict'].apply(pd.Series)], axis=1)\n",
    "df"
   ]
  },
  {
   "cell_type": "code",
   "execution_count": 179,
   "id": "d8d78548-c287-499f-875b-27f8fa4a24e6",
   "metadata": {},
   "outputs": [
    {
     "data": {
      "text/plain": [
       "Timestamp('2022-09-27 00:00:00-0700', tz='US/Pacific')"
      ]
     },
     "execution_count": 179,
     "metadata": {},
     "output_type": "execute_result"
    }
   ],
   "source": [
    "pd.Timestamp('9/27/22').tz_localize('US/Pacific')"
   ]
  },
  {
   "cell_type": "code",
   "execution_count": 180,
   "id": "50e89229-4ed6-4101-87d2-d8d88aab86e0",
   "metadata": {},
   "outputs": [
    {
     "data": {
      "text/plain": [
       "Timedelta('0 days 01:00:00')"
      ]
     },
     "execution_count": 180,
     "metadata": {},
     "output_type": "execute_result"
    }
   ],
   "source": [
    "pd.to_timedelta(1,unit='h')"
   ]
  },
  {
   "cell_type": "code",
   "execution_count": 181,
   "id": "93191b1c-b215-4e04-a109-aa4c527431fa",
   "metadata": {},
   "outputs": [
    {
     "data": {
      "text/plain": [
       "Timedelta('2 days 00:00:00')"
      ]
     },
     "execution_count": 181,
     "metadata": {},
     "output_type": "execute_result"
    }
   ],
   "source": [
    "pd.Timedelta(days=2)"
   ]
  },
  {
   "cell_type": "code",
   "execution_count": 182,
   "id": "0bbf0e29-8f57-4b4e-b404-4f8c04016e2e",
   "metadata": {},
   "outputs": [
    {
     "data": {
      "text/plain": [
       "Timedelta('2 days 02:15:30')"
      ]
     },
     "execution_count": 182,
     "metadata": {},
     "output_type": "execute_result"
    }
   ],
   "source": [
    "pd.Timedelta(\"2 days 2 hours 15 minutes 30 seconds\")"
   ]
  },
  {
   "cell_type": "code",
   "execution_count": null,
   "id": "9e005fd1-ef97-4cd3-9e3e-9b39e0191192",
   "metadata": {},
   "outputs": [],
   "source": []
  }
 ],
 "metadata": {
  "kernelspec": {
   "display_name": "Python [conda env:base] *",
   "language": "python",
   "name": "conda-base-py"
  },
  "language_info": {
   "codemirror_mode": {
    "name": "ipython",
    "version": 3
   },
   "file_extension": ".py",
   "mimetype": "text/x-python",
   "name": "python",
   "nbconvert_exporter": "python",
   "pygments_lexer": "ipython3",
   "version": "3.13.5"
  }
 },
 "nbformat": 4,
 "nbformat_minor": 5
}
